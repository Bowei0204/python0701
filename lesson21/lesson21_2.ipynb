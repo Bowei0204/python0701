{
 "cells": [
  {
   "cell_type": "code",
   "execution_count": 7,
   "metadata": {},
   "outputs": [
    {
     "name": "stdout",
     "output_type": "stream",
     "text": [
      "## AI900 和 ITS 證照的優缺點比較：\n",
      "\n",
      "**AI-900：Microsoft Azure AI Fundamentals**\n",
      "\n",
      "**優點：**\n",
      "\n",
      "* **入門級證照：** 適合對 AI 領域感興趣的初學者，不需要任何先前的 AI 經驗。\n",
      "* **涵蓋 AI 核心概念：** 涵蓋 AI 的基本概念，包括機器學習、深度學習、電腦視覺、自然語言處理等。\n",
      "* **提供 Azure 技能：** 學習如何使用 Azure 平台來開發和部署 AI 模型。\n",
      "* **提升就業競爭力：** 證明對 AI 的基本知識，增加就業競爭力。\n",
      "\n",
      "**缺點：**\n",
      "\n",
      "* **非專業證照：** 不需要深入的技術知識和經驗，所以並不能證明專業的 AI 技能。\n",
      "* **缺乏實務技能：** 證照考試主要考驗理論知識，缺乏實務操作和程式設計經驗。\n",
      "* **可能不夠深入：** 對於想要深入學習 AI 的人來說，可能需要額外的學習資源。\n",
      "\n",
      "**ITS：IT Service Management**\n",
      "\n",
      "**優點：**\n",
      "\n",
      "* **重視流程和管理：** 涵蓋 IT 服務管理的最佳實務和標準，例如 ITIL。\n",
      "* **廣泛的應用範圍：** 適用於各種 IT 環境，包括軟體開發、系統管理、雲端服務等。\n",
      "* **提升工作效率：** 學習如何有效管理 IT 服務，提高工作效率和服務品質。\n",
      "* **國際認可的證照：** ITS 證照在全球範圍內受到認可，有助於提升國際競爭力。\n",
      "\n",
      "**缺點：**\n",
      "\n",
      "* **偏重管理和流程：** 缺乏技術方面的知識，可能無法滿足技術人員的需求。\n",
      "* **需要一定的 IT 經驗：** 需要有一定的 IT 知識和經驗才能理解 ITS 的概念和標準。\n",
      "* **考試內容較廣泛：** 考試範圍涵蓋 IT 服務管理的各個方面，需要大量的時間和精力準備。\n",
      "\n",
      "**總結：**\n",
      "\n",
      "AI-900 適合對 AI 感興趣的初學者，想要入門 AI 領域，了解 AI 的基本概念和 Azure 平台。而 ITS 適合 IT 領域的專業人士，想要提升 IT 服務管理的技能，學習 ITIL 標準和最佳實務。\n",
      "\n",
      "選擇哪個證照，取決於你的個人目標和職業方向。 \n",
      "\n",
      "**其他建議：**\n",
      "\n",
      "* 除了證照之外，還要注重實務經驗和技術技能的提升。\n",
      "* 選擇適合自己的學習資源和方式，例如線上課程、書籍、實務操作等。\n",
      "* 持續學習和更新自己的知識，跟上 AI 和 IT 領域的發展趨勢。\n"
     ]
    }
   ],
   "source": [
    "#api網址 https://aistudio.google.com/app/apikey\n",
    "from dotenv import load_dotenv\n",
    "import google.generativeai as genai\n",
    "import os\n",
    "\n",
    "load_dotenv()\n",
    "genai.configure(api_key=os.environ['api_key'])\n",
    "model = genai.GenerativeModel(model_name=\"gemini-1.5-flash\")\n",
    "response = model.generate_content([\"AI900和ITS證照的優缺\"])\n",
    "print(response.text)"
   ]
  }
 ],
 "metadata": {
  "kernelspec": {
   "display_name": "Python 3",
   "language": "python",
   "name": "python3"
  },
  "language_info": {
   "codemirror_mode": {
    "name": "ipython",
    "version": 3
   },
   "file_extension": ".py",
   "mimetype": "text/x-python",
   "name": "python",
   "nbconvert_exporter": "python",
   "pygments_lexer": "ipython3",
   "version": "3.11.9"
  }
 },
 "nbformat": 4,
 "nbformat_minor": 2
}
