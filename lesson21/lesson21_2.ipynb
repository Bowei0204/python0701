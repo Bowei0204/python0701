{
 "cells": [
  {
   "cell_type": "code",
   "execution_count": 5,
   "metadata": {},
   "outputs": [
    {
     "name": "stdout",
     "output_type": "stream",
     "text": [
      "## AI900 和 ITS 證照的優缺\n",
      "\n",
      "**AI900 (Microsoft Azure AI Fundamentals)**\n",
      "\n",
      "**優點：**\n",
      "\n",
      "* **入門級證照：**適合 AI 領域的新手，不需要先前的 AI 經驗。\n",
      "* **涵蓋廣泛的 AI 概念：**包括機器學習、深度學習、自然語言處理等。\n",
      "* **以 Azure 平台為基礎：**學習使用 Microsoft Azure 雲端平台進行 AI 開發。\n",
      "* **提升職場競爭力：**顯示對 AI 的基本知識和理解。\n",
      "* **相對容易取得：**考試難度較低，適合快速提升技能。\n",
      "\n",
      "**缺點：**\n",
      "\n",
      "* **只提供基礎知識：**無法深入學習特定 AI 技術。\n",
      "* **偏重於 Azure 平台：**對於其他雲端平台或 AI 工具的學習幫助有限。\n",
      "* **非專業證照：**無法證明專業的 AI 開發能力。\n",
      "\n",
      "**ITS (Information Technology Specialist)**\n",
      "\n",
      "**優點：**\n",
      "\n",
      "* **涵蓋廣泛的資訊科技知識：**包括網路安全、資料庫、程式設計等。\n",
      "* **通用證照：**適用於多個產業和職位。\n",
      "* **提高職場競爭力：**顯示廣泛的資訊科技知識和技能。\n",
      "* **多種考試方向：**可以選擇符合個人需求的考試項目。\n",
      "\n",
      "**缺點：**\n",
      "\n",
      "* **考試內容廣泛：**可能需要更長時間準備。\n",
      "* **非專精證照：**無法證明特定領域的專業知識。\n",
      "* **證照價值取決於個人經驗：**需要配合工作經驗才能發揮最大效用。\n",
      "\n",
      "**總結：**\n",
      "\n",
      "* **AI900：**適合想要入門 AI 領域，並了解 Azure 平台的新手。\n",
      "* **ITS：**適合想要提升資訊科技知識，並顯示廣泛技能的專業人士。\n",
      "\n",
      "**選擇哪個證照取決於你的個人目標和需求。**\n",
      "\n",
      "**建議：**\n",
      "\n",
      "* 如果你想進入 AI 領域，AI900 是個良好的起點。\n",
      "* 如果你想要提升資訊科技知識，ITS 是一個不錯的選擇。\n",
      "* 建議先了解自己的目標和需求，再選擇適合的證照。\n"
     ]
    }
   ],
   "source": [
    "#api網址 https://aistudio.google.com/app/apikey\n",
    "from dotenv import load_dotenv\n",
    "import google.generativeai as genai\n",
    "import os\n",
    "\n",
    "load_dotenv()\n",
    "genai.configure(api_key=os.environ['api_key'])\n",
    "model = genai.GenerativeModel(model_name=\"gemini-1.5-flash\")\n",
    "response = model.generate_content([\"AI900和ITS證照的優缺\"])\n",
    "print(response.text)"
   ]
  },
  {
   "cell_type": "code",
   "execution_count": 4,
   "metadata": {},
   "outputs": [
    {
     "name": "stdout",
     "output_type": "stream",
     "text": [
      "請告訴我你要在什麼之間做選擇！我需要更多資訊才能幫你決定。例如，你可以說：\n",
      "\n",
      "* \"如果只能選一個，我要選冰淇淋還是蛋糕？\"\n",
      "* \"如果只能選一個，我要選工作 A 還是工作 B？\" \n",
      "* \"如果只能選一個，我要選買房子還是租房子？\"\n",
      "\n",
      "這樣我才能根據你的需求和偏好，給你一些有幫助的建議。 \n",
      "\n"
     ]
    }
   ],
   "source": [
    "response = model.generate_content([\"如果只能擇一要怎麼選\"])\n",
    "print(response.text)"
   ]
  }
 ],
 "metadata": {
  "kernelspec": {
   "display_name": "Python 3",
   "language": "python",
   "name": "python3"
  },
  "language_info": {
   "codemirror_mode": {
    "name": "ipython",
    "version": 3
   },
   "file_extension": ".py",
   "mimetype": "text/x-python",
   "name": "python",
   "nbconvert_exporter": "python",
   "pygments_lexer": "ipython3",
   "version": "3.11.9"
  }
 },
 "nbformat": 4,
 "nbformat_minor": 2
}
