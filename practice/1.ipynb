{
 "cells": [
  {
   "cell_type": "code",
   "execution_count": 9,
   "metadata": {},
   "outputs": [
    {
     "name": "stdout",
     "output_type": "stream",
     "text": [
      "1  您好\n",
      "\n",
      "身高是200公分\n",
      "體重是120公斤\n",
      "BMI為30.0\n",
      "體重過重\n"
     ]
    }
   ],
   "source": [
    "name=input(\"請輸入姓名\")\n",
    "h=eval(input(\"請輸入身高(cm)\"))\n",
    "w=eval(input(\"請輸入體重(kg)\"))\n",
    "a=\"\"\n",
    "BMI=w/(h/100)**2\n",
    "\n",
    "if (BMI < 18.5):\n",
    "    a=\"體重過輕\"\n",
    "elif(BMI>=18.5 and BMI<24):\n",
    "    a=\"體重適中\"\n",
    "elif(BMI>=24):\n",
    "    a=\"體重過重\"\n",
    "        \n",
    "    \n",
    "\n",
    "\n",
    "print(f\"\"\"{name}  您好\n",
    "\n",
    "身高是{h}公分\n",
    "體重是{w}公斤\n",
    "BMI為{round(BMI,ndigits=2)}\n",
    "{a}\"\"\")"
   ]
  }
 ],
 "metadata": {
  "kernelspec": {
   "display_name": "Python 3",
   "language": "python",
   "name": "python3"
  },
  "language_info": {
   "codemirror_mode": {
    "name": "ipython",
    "version": 3
   },
   "file_extension": ".py",
   "mimetype": "text/x-python",
   "name": "python",
   "nbconvert_exporter": "python",
   "pygments_lexer": "ipython3",
   "version": "3.11.9"
  }
 },
 "nbformat": 4,
 "nbformat_minor": 2
}
