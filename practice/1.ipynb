{
 "cells": [
  {
   "cell_type": "code",
   "execution_count": 7,
   "metadata": {},
   "outputs": [
    {
     "name": "stdout",
     "output_type": "stream",
     "text": [
      "輸入格式錯誤\n"
     ]
    }
   ],
   "source": [
    "try:\n",
    "    name = input(\"請輸入姓名\")\n",
    "    h = eval(input(\"請輸入身高(cm)\"))\n",
    "    w = eval(input(\"請輸入體重(kg)\"))\n",
    "    a = \"\"\n",
    "    BMI = w/(h/100)**2\n",
    "    \n",
    "except :\n",
    "    print(\"輸入格式錯誤\")\n",
    "\n",
    "else:\n",
    "    try:\n",
    "        if((h <= 0  or  h >= 300) or (w <= 0)):\n",
    "            raise ValueError(\"身高請介於1~300公分之間 或 體重請大於0公斤\")\n",
    "        \n",
    "    except Exception as e:\n",
    "        print(e)\n",
    "\n",
    "\n",
    "    else:\n",
    "    \n",
    "        if (BMI < 18.5):\n",
    "            a=\"您的體重過輕\"\n",
    "\n",
    "        elif(BMI >= 18.5 and BMI < 24):\n",
    "            a=\"您的體重適中\"\n",
    "\n",
    "        elif(BMI >= 24 and BMI < 27):\n",
    "            a=\"您的體重過重\"\n",
    "\n",
    "        elif(BMI >= 27 and BMI < 30):\n",
    "            a=\"您的體重為輕度肥胖\"\n",
    "\n",
    "        elif(BMI >= 30 and BMI < 35):\n",
    "            a=\"您的體重為中度肥胖\"\n",
    "\n",
    "        elif(BMI >= 35):\n",
    "            a=\"您的體重為重度肥胖\"\n",
    "\n",
    "        print(f\"\"\"{name}  您好\n",
    "\n",
    "身高是{h}公分\n",
    "體重是{w}公斤\n",
    "BMI為{round(BMI,ndigits=2)}\n",
    "{a}\"\"\")\n",
    "\n",
    "\n"
   ]
  },
  {
   "cell_type": "code",
   "execution_count": 8,
   "metadata": {},
   "outputs": [
    {
     "name": "stdout",
     "output_type": "stream",
     "text": [
      "輸入錯誤:\n",
      "身高請介於1~300公分之間\n",
      "體重請大於0公斤\n"
     ]
    }
   ],
   "source": [
    "try:\n",
    "    name = input(\"請輸入姓名: \")\n",
    "    h = eval(input(\"請輸入身高(cm): \"))\n",
    "    w = eval(input(\"請輸入體重(kg): \"))\n",
    "    \n",
    "    errors = []\n",
    "    if h <= 0 or h >= 300:\n",
    "        errors.append(\"身高請介於1~300公分之間\")\n",
    "    if w <= 0:\n",
    "        errors.append(\"體重請大於0公斤\")\n",
    "    \n",
    "    if errors:\n",
    "        raise ValueError(\"\\n\".join(errors))\n",
    "    \n",
    "    BMI = w / (h / 100) ** 2\n",
    "\n",
    "    if BMI < 18.5:\n",
    "        a = \"您的體重過輕\"\n",
    "    elif BMI < 24:\n",
    "        a = \"您的體重適中\"\n",
    "    elif BMI < 27:\n",
    "        a = \"您的體重過重\"\n",
    "    elif BMI < 30:\n",
    "        a = \"您的體重為輕度肥胖\"\n",
    "    elif BMI < 35:\n",
    "        a = \"您的體重為中度肥胖\"\n",
    "    else:\n",
    "        a = \"您的體重為重度肥胖\"\n",
    "\n",
    "    print(f\"\"\"{name} 您好\n",
    "\n",
    "身高是 {h} 公分\n",
    "體重是 {w} 公斤\n",
    "BMI 為 {round(BMI, 2)}\n",
    "{a}\"\"\")\n",
    "\n",
    "except ValueError as ve:\n",
    "    print(f\"輸入錯誤:\\n{ve}\")\n",
    "except Exception as e:\n",
    "    print(f\"輸入格式錯誤: {e}\")\n"
   ]
  },
  {
   "cell_type": "code",
   "execution_count": 20,
   "metadata": {},
   "outputs": [
    {
     "name": "stdout",
     "output_type": "stream",
     "text": [
      "1 您好\n",
      "\n",
      "身高是 200 公分\n",
      "體重是 100 公斤\n",
      "BMI 為 25.0\n",
      "您的體重過重\n"
     ]
    }
   ],
   "source": [
    "try:\n",
    "    name = input(\"請輸入姓名: \")\n",
    "    h = eval(input(\"請輸入身高(cm): \"))\n",
    "    w = eval(input(\"請輸入體重(kg): \"))\n",
    "    \n",
    "    if (h <= 0 or h >= 300):\n",
    "        raise ValueError(\"身高請介於1~300公分之間\")\n",
    "    elif (w <= 0):\n",
    "        raise ValueError(\"體重請大於0公斤\")\n",
    "    \n",
    "    BMI = w / (h / 100) ** 2\n",
    "\n",
    "    if   (BMI < 18.5):\n",
    "        a = \"您的體重過輕\"\n",
    "    elif (BMI >= 18.5 and BMI < 24):\n",
    "        a = \"您的體重適中\"\n",
    "    elif (BMI >= 24 and BMI < 27):\n",
    "        a = \"您的體重過重\"\n",
    "    elif (BMI >= 27 and BMI < 30):\n",
    "        a = \"您的體重為輕度肥胖\"\n",
    "    elif (BMI >= 30 and BMI < 35):\n",
    "        a = \"您的體重為中度肥胖\"\n",
    "    else:\n",
    "        a = \"您的體重為重度肥胖\"\n",
    "\n",
    "    print(f\"\"\"{name} 您好\n",
    "\n",
    "身高是 {h} 公分\n",
    "體重是 {w} 公斤\n",
    "BMI 為 {round(BMI , ndigits = 2)}\n",
    "{a}\"\"\")\n",
    "\n",
    "except ValueError as ve:\n",
    "    print(f\"輸入錯誤:{ve}\")\n",
    "except Exception as e:\n",
    "    print(f\"輸入格式錯誤:{e}\")\n"
   ]
  }
 ],
 "metadata": {
  "kernelspec": {
   "display_name": "Python 3",
   "language": "python",
   "name": "python3"
  },
  "language_info": {
   "codemirror_mode": {
    "name": "ipython",
    "version": 3
   },
   "file_extension": ".py",
   "mimetype": "text/x-python",
   "name": "python",
   "nbconvert_exporter": "python",
   "pygments_lexer": "ipython3",
   "version": "3.11.9"
  }
 },
 "nbformat": 4,
 "nbformat_minor": 2
}
