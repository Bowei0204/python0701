{
 "cells": [
  {
   "cell_type": "code",
   "execution_count": 4,
   "metadata": {},
   "outputs": [
    {
     "name": "stdout",
     "output_type": "stream",
     "text": [
      "==================猜數字=================\n",
      "\n",
      "答案介於50~100之間\n",
      "答案介於50~75之間\n",
      "答案介於50~66之間\n",
      "答案介於50~58之間\n",
      "答案介於50~55之間\n",
      "bingo!答對囉! 答案為53 您總共猜了6次\n",
      "要再來一局嗎?[y/n]\n",
      "輸入格式錯誤,請再輸入一次\n",
      "再來一局\n",
      "==================猜數字=================\n",
      "\n",
      "答案介於1~50之間\n",
      "答案介於1~25之間\n",
      "答案介於1~12之間\n",
      "答案介於6~12之間\n",
      "答案介於6~9之間\n",
      "bingo!答對囉! 答案為8 您總共猜了6次\n",
      "要再來一局嗎?[y/n]\n",
      "不要\n",
      "程式結束\n"
     ]
    }
   ],
   "source": [
    "import random\n",
    "min = 1\n",
    "max = 100\n",
    "count = 0\n",
    "ans = random.randint(min,max)\n",
    "print(\"==================猜數字=================\\n\")\n",
    "while True:\n",
    "    count += 1\n",
    "    try:\n",
    "        n = int(input(f\"請輸入一個整數介於{min}~{max}之間\"))\n",
    "    \n",
    "    except:\n",
    "        print(\"輸入格式錯誤\")\n",
    "        continue\n",
    "\n",
    "    if n < min or n > max:\n",
    "        print(\"超出範圍\")\n",
    "        continue\n",
    "\n",
    "    if n > ans:\n",
    "        max = n \n",
    "        print(f\"答案介於{min}~{max}之間\")\n",
    "        \n",
    "    elif n < ans: \n",
    "        min = n \n",
    "        print(f\"答案介於{min}~{max}之間\")\n",
    "\n",
    "    elif n == ans:\n",
    "        print(f\"bingo!答對囉! 答案為{ans} 您總共猜了{count}次\")\n",
    "        \n",
    "        print(\"要再來一局嗎?[y/n]\")\n",
    "        while True:\n",
    "            str = input(\"要再來一局嗎?[y/n]\")\n",
    "            if str == \"n\" or str ==\"y\":\n",
    "                break\n",
    "            else:\n",
    "                print(\"輸入格式錯誤,請再輸入一次\")\n",
    "                continue\n",
    "        if str ==\"n\":\n",
    "            print(\"不要\")\n",
    "            break\n",
    "\n",
    "        elif str == \"y\":\n",
    "            print(\"再來一局\")\n",
    "            min = 1\n",
    "            max = 100\n",
    "            count = 0\n",
    "            ans = random.randint(min,max) \n",
    "            print(\"==================猜數字=================\\n\")\n",
    "                                                     \n",
    "print(\"程式結束\")\n",
    "\n"
   ]
  },
  {
   "cell_type": "code",
   "execution_count": null,
   "metadata": {},
   "outputs": [],
   "source": []
  }
 ],
 "metadata": {
  "kernelspec": {
   "display_name": "Python 3",
   "language": "python",
   "name": "python3"
  },
  "language_info": {
   "codemirror_mode": {
    "name": "ipython",
    "version": 3
   },
   "file_extension": ".py",
   "mimetype": "text/x-python",
   "name": "python",
   "nbconvert_exporter": "python",
   "pygments_lexer": "ipython3",
   "version": "3.11.9"
  }
 },
 "nbformat": 4,
 "nbformat_minor": 2
}
