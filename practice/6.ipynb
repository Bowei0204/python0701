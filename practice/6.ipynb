{
 "cells": [
  {
   "cell_type": "code",
   "execution_count": 8,
   "metadata": {},
   "outputs": [
    {
     "name": "stdout",
     "output_type": "stream",
     "text": [
      "==================猜數字=================\n",
      "\n",
      "答案介於1~49之間\n",
      "答案介於26~49之間\n",
      "答案介於26~35之間\n",
      "答案介於26~29之間\n",
      "超出範圍\n",
      "答案介於28~29之間\n",
      "答案介於29~29之間\n",
      "bingo!答對囉! 答案為29 您總共猜了8次\n",
      "要再來一局嗎?[y/n]\n",
      "輸入格式錯誤\n",
      "輸入格式錯誤\n",
      "輸入格式錯誤\n",
      "答案介於51~100之間\n",
      "答案介於76~100之間\n",
      "答案介於76~79之間\n",
      "答案介於79~79之間\n",
      "bingo!答對囉! 答案為79 您總共猜了5次\n",
      "要再來一局嗎?[y/n]\n",
      "程式結束\n"
     ]
    }
   ],
   "source": [
    "import random\n",
    "min = 1\n",
    "max = 100\n",
    "count = 0\n",
    "ans = random.randint(min,max)\n",
    "print(\"==================猜數字=================\\n\")\n",
    "\n",
    "while True:\n",
    "    count += 1\n",
    "    try:\n",
    "        n = int(input(f\"請輸入一個整數介於{min}~{max}之間\"))\n",
    "    \n",
    "    except:\n",
    "        print(\"輸入格式錯誤\")\n",
    "        continue\n",
    "\n",
    "    if n < min or n > max:\n",
    "        print(\"超出範圍\")\n",
    "        continue\n",
    "\n",
    "    if n > ans:\n",
    "        max = n - 1\n",
    "        print(f\"答案介於{min}~{max}之間\")\n",
    "        \n",
    "    elif n < ans: \n",
    "        min = n + 1\n",
    "        print(f\"答案介於{min}~{max}之間\")\n",
    "\n",
    "    elif n == ans:\n",
    "        print(f\"bingo!答對囉! 答案為{ans} 您總共猜了{count}次\")\n",
    "        \n",
    "        print(\"要再來一局嗎?[y/n]\")\n",
    "        while True:\n",
    "            str = input(\"要再來一局嗎?[y/n]\")\n",
    "            if str == \"n\" or str ==\"y\":\n",
    "                break\n",
    "            else:\n",
    "                print(\"輸入格式錯誤\")\n",
    "                continue\n",
    "        if str ==\"n\":\n",
    "            break\n",
    "\n",
    "        elif str == \"y\":\n",
    "            min = 1\n",
    "            max = 100\n",
    "            count = 0\n",
    "            ans = random.randint(min,max) \n",
    "            print(\"==================猜數字=================\\n\")\n",
    "                                                     \n",
    "print(\"程式結束\")\n",
    "\n"
   ]
  },
  {
   "cell_type": "code",
   "execution_count": null,
   "metadata": {},
   "outputs": [],
   "source": []
  }
 ],
 "metadata": {
  "kernelspec": {
   "display_name": "Python 3",
   "language": "python",
   "name": "python3"
  },
  "language_info": {
   "codemirror_mode": {
    "name": "ipython",
    "version": 3
   },
   "file_extension": ".py",
   "mimetype": "text/x-python",
   "name": "python",
   "nbconvert_exporter": "python",
   "pygments_lexer": "ipython3",
   "version": "3.11.9"
  }
 },
 "nbformat": 4,
 "nbformat_minor": 2
}
