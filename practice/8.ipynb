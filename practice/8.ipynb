{
 "cells": [
  {
   "cell_type": "code",
   "execution_count": null,
   "metadata": {},
   "outputs": [],
   "source": [
    "import pyinputplus as pyip\n",
    "def calculate():\n",
    "    while True:       \n",
    "        name = pyip.inputStr(\"請輸入姓名：\")\n",
    "        print(name)\n",
    "        height = pyip.inputNum(\"請輸入身高(cm)：\")\n",
    "        print(height)\n",
    "        weight = pyip.inputNum(\"請輸入體重(kg)：\")\n",
    "        print(weight)\n",
    "                \n",
    "        bmi = weight/(height/100) ** 2\n",
    "        if bmi >= 35:\n",
    "            status = '重度肥胖'\n",
    "        elif bmi >= 30:\n",
    "            status = '中度肥胖'\n",
    "        elif bmi >= 27:\n",
    "            status = '輕度肥胖'\n",
    "        elif bmi >= 24:\n",
    "            status = '體重過重'\n",
    "        elif bmi >= 18.5:\n",
    "            status = '體重正常'\n",
    "        else:\n",
    "            status = '體重過輕'\n",
    "        print(f\"\"\"{name}你好\n",
    "身高是：{height}公分\n",
    "體重是：{weight}公斤\n",
    "BMI:{round(bmi,ndigits=2)}\n",
    "{status}\"\"\")\n",
    "        break\n",
    "\n",
    "while  True:\n",
    "    calculate()\n",
    "    answer=pyip.inputYesNo(\"離開(n)or繼續(y)\")\n",
    "    print()\n",
    "    if answer==\"no\":\n",
    "        break\n",
    "        \n",
    "print(\"應用程式結束\")"
   ]
  },
  {
   "cell_type": "code",
   "execution_count": 4,
   "metadata": {},
   "outputs": [
    {
     "name": "stdout",
     "output_type": "stream",
     "text": [
      "請輸入姓名：1\n",
      "請輸入身高(cm)：173\n",
      "請輸入體重(kg)：80\n",
      "1你好\n",
      "身高是：173公分\n",
      "體重是：80公斤\n",
      "BMI:26.73\n",
      "體重過重\n"
     ]
    }
   ],
   "source": [
    "import pyinputplus as pyip\n",
    "class Person():\n",
    "    def __init__(self,n:str,h:eval,w:eval):\n",
    "        self.name = n\n",
    "        self.height = h\n",
    "        self.weight = w\n",
    "\n",
    "    def getBMI(self) -> float:\n",
    "        return self.weight/(self.height/100) ** 2\n",
    "    \n",
    "    def get_status(self) -> str:\n",
    "        if self.getBMI()>= 35:\n",
    "            return '重度肥胖'\n",
    "        \n",
    "        elif self.getBMI()>= 30:\n",
    "            return '中度肥胖'\n",
    "        \n",
    "        elif self.getBMI()>= 27:\n",
    "            return '輕度肥胖'\n",
    "        \n",
    "        elif self.getBMI()>= 24:\n",
    "            return '體重過重'\n",
    "        \n",
    "        elif self.getBMI()>= 18.5:\n",
    "            return '體重正常'\n",
    "        \n",
    "        else :\n",
    "            return '體重過輕'\n",
    "\n",
    "n = pyip.inputStr(\"請輸入姓名：\")\n",
    "print(n)\n",
    "h = pyip.inputNum(\"請輸入身高(cm)：\")\n",
    "print(h)\n",
    "w = pyip.inputNum(\"請輸入體重(kg)：\")\n",
    "print(w)\n",
    "\n",
    "p = Person(n,h,w)\n",
    " \n",
    "print(f\"\"\"{p.name}你好\n",
    "身高是：{p.height}公分\n",
    "體重是：{p.weight}公斤\n",
    "BMI:{round(p.getBMI(),ndigits=2)}\n",
    "{p.get_status()}\"\"\")\n",
    "\n"
   ]
  }
 ],
 "metadata": {
  "kernelspec": {
   "display_name": "Python 3",
   "language": "python",
   "name": "python3"
  },
  "language_info": {
   "codemirror_mode": {
    "name": "ipython",
    "version": 3
   },
   "file_extension": ".py",
   "mimetype": "text/x-python",
   "name": "python",
   "nbconvert_exporter": "python",
   "pygments_lexer": "ipython3",
   "version": "3.11.9"
  }
 },
 "nbformat": 4,
 "nbformat_minor": 2
}
