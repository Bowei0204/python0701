{
 "cells": [
  {
   "cell_type": "code",
   "execution_count": 11,
   "metadata": {},
   "outputs": [
    {
     "name": "stdout",
     "output_type": "stream",
     "text": [
      "1 2 4 5 10 20 1 2 5 10 1 2 5 10 "
     ]
    }
   ],
   "source": [
    "n = int(input('請輸入第1個數:'))\n",
    "m = int(input('請輸入第2個數:'))\n",
    "\n",
    "for i in range(1,n+1):\n",
    "    if n % i == 0:\n",
    "        print(i,end=\" \")\n",
    "\n",
    "for j in range(1,m+1):\n",
    "    if m % j == 0:\n",
    "        print(j,end=\" \")\n",
    "\n",
    "for i in range(1, min(n, m) + 1):\n",
    "    if n % i == 0 and m % i == 0:\n",
    "        print(f\"{i}\",end=' ')\n"
   ]
  },
  {
   "cell_type": "code",
   "execution_count": 9,
   "metadata": {},
   "outputs": [
    {
     "name": "stdout",
     "output_type": "stream",
     "text": [
      "10的因數:[1, 2, 5, 10]\n",
      "20的因數:[1, 2, 4, 5, 10, 20]\n",
      "10和20的公因數: [1, 2, 5, 10]\n"
     ]
    }
   ],
   "source": [
    "n = int(input('請輸入第1個數:'))\n",
    "m = int(input('請輸入第2個數:'))\n",
    "\n",
    "n1 = []\n",
    "m1 = []\n",
    "\n",
    "same = []\n",
    "\n",
    "for i in range(1,n+1):\n",
    "    if n % i == 0:\n",
    "        n1.append(i)\n",
    "print(f\"{n}的因數:{n1}\")\n",
    "\n",
    "for j in range(1,m+1):\n",
    "    if m % j == 0:\n",
    "        m1.append(j)\n",
    "print(f\"{m}的因數:{m1}\")\n",
    "\n",
    "\n",
    "for i in range(1, min(n, m) + 1):\n",
    "    if n % i == 0 and m % i == 0:\n",
    "        same.append(i)\n",
    "\n",
    "print(f\"{n}和{m}的公因數: {same}\")"
   ]
  },
  {
   "cell_type": "code",
   "execution_count": 12,
   "metadata": {},
   "outputs": [
    {
     "name": "stdout",
     "output_type": "stream",
     "text": [
      "10的因數: 1 2 5 10 \n",
      "20的因數: 1 2 4 5 10 20 \n",
      "10和20的公因數: 1 2 5 10 \n"
     ]
    }
   ],
   "source": [
    "n = int(input('請輸入第1個數: '))\n",
    "m = int(input('請輸入第2個數: '))\n",
    "\n",
    "print(f\"{n}的因數: \", end=\"\")\n",
    "for i in range(1, n + 1):\n",
    "    if n % i == 0:\n",
    "        print(i, end=\" \")\n",
    "print() \n",
    "\n",
    "print(f\"{m}的因數: \", end=\"\")\n",
    "for j in range(1, m + 1):\n",
    "    if m % j == 0:\n",
    "        print(j, end=\" \")\n",
    "print()  \n",
    "\n",
    "print(f\"{n}和{m}的公因數: \", end=\"\")\n",
    "for i in range(1, min(n, m) + 1):\n",
    "    if n % i == 0 and m % i == 0:\n",
    "        print(i, end=\" \")\n",
    "print()  \n"
   ]
  }
 ],
 "metadata": {
  "kernelspec": {
   "display_name": "Python 3",
   "language": "python",
   "name": "python3"
  },
  "language_info": {
   "codemirror_mode": {
    "name": "ipython",
    "version": 3
   },
   "file_extension": ".py",
   "mimetype": "text/x-python",
   "name": "python",
   "nbconvert_exporter": "python",
   "pygments_lexer": "ipython3",
   "version": "3.11.9"
  }
 },
 "nbformat": 4,
 "nbformat_minor": 2
}
