{
 "cells": [
  {
   "cell_type": "code",
   "execution_count": 6,
   "metadata": {},
   "outputs": [
    {
     "name": "stdout",
     "output_type": "stream",
     "text": [
      "成績為80,甲\n"
     ]
    }
   ],
   "source": [
    "score = eval(input(\"請輸入成績\"))\n",
    "\n",
    "if (score >= 90 and score <= 100) :\n",
    "    print(f\"\"\"成績為{score},優\"\"\")\n",
    "elif (score >= 80 and score < 90) :\n",
    "    print(f\"\"\"成績為{score},甲\"\"\")\n",
    "elif (score >= 70 and score < 80) :\n",
    "    print(f\"\"\"成績為{score},乙\"\"\")\n",
    "elif (score >= 60 and score < 70) :\n",
    "    print(f\"\"\"成績為{score},丙\"\"\")\n",
    "elif (score >= 0 and score < 60) :\n",
    "    print(f\"\"\"成績為{score},丁\"\"\")\n",
    "else:\n",
    "    print(\"輸入格是錯誤,成績須介於0~100之間\")"
   ]
  },
  {
   "cell_type": "code",
   "execution_count": 10,
   "metadata": {},
   "outputs": [
    {
     "name": "stdout",
     "output_type": "stream",
     "text": [
      "輸入格式錯誤\n"
     ]
    }
   ],
   "source": [
    "\n",
    "try:\n",
    "    name = input(\"請輸入姓名\")\n",
    "    h = eval(input(\"請輸入身高(cm)\"))\n",
    "    w = eval(input(\"請輸入體重(kg)\"))\n",
    "    a = \"\"\n",
    "    BMI = w/(h/100)**2\n",
    "    \n",
    "except :\n",
    "    print(\"輸入格式錯誤\")\n",
    "\n",
    "else:\n",
    "    try:\n",
    "        if(h <= 0  or  h >= 300):\n",
    "            raise ValueError(\"身高請介於1~300公分之間\")\n",
    "        \n",
    "    except Exception as r:\n",
    "        print(r)\n",
    "\n",
    "    else:\n",
    "        try:\n",
    "            if(w <= 0):\n",
    "                raise ValueError(\"體重請大於0公斤\")\n",
    "        \n",
    "        except Exception as e:\n",
    "            print(e)\n",
    "\n",
    "        else:\n",
    "            if (BMI < 18.5):\n",
    "                a=\"您的體重過輕\"\n",
    "\n",
    "            elif(BMI >= 18.5 and BMI < 24):\n",
    "                a=\"您的體重適中\"\n",
    "\n",
    "            elif(BMI >= 24 and BMI < 27):\n",
    "                a=\"您的體重過重\"\n",
    "\n",
    "            elif(BMI >= 27 and BMI < 30):\n",
    "                a=\"您的體重為輕度肥胖\"\n",
    "\n",
    "            elif(BMI >= 30 and BMI < 35):\n",
    "                a=\"您的體重為中度肥胖\"\n",
    "\n",
    "            elif(BMI >= 35):\n",
    "                a=\"您的體重為重度肥胖\"\n",
    "\n",
    "            print(f\"\"\"{name}  您好\n",
    "\n",
    "身高是{h}公分\n",
    "體重是{w}公斤\n",
    "BMI為{round(BMI,ndigits=2)}\n",
    "{a}\"\"\")\n"
   ]
  },
  {
   "cell_type": "code",
   "execution_count": 14,
   "metadata": {},
   "outputs": [
    {
     "name": "stdout",
     "output_type": "stream",
     "text": [
      "輸入格式錯誤:'<=' not supported between instances of 'str' and 'int'\n"
     ]
    }
   ],
   "source": [
    "try:\n",
    "    name = input(\"請輸入姓名: \")\n",
    "    h = eval(input(\"請輸入身高(cm): \"))\n",
    "    w = eval(input(\"請輸入體重(kg): \"))\n",
    "    \n",
    "    if h <= 0 or h >= 300:\n",
    "        raise ValueError(\"身高請介於1~300公分之間\")\n",
    "    if w <= 0:\n",
    "        raise ValueError(\"體重請大於0公斤\")\n",
    "    \n",
    "    BMI = w / (h / 100) ** 2\n",
    "\n",
    "    if BMI < 18.5:\n",
    "        a = \"您的體重過輕\"\n",
    "    elif BMI < 24:\n",
    "        a = \"您的體重適中\"\n",
    "    elif BMI < 27:\n",
    "        a = \"您的體重過重\"\n",
    "    elif BMI < 30:\n",
    "        a = \"您的體重為輕度肥胖\"\n",
    "    elif BMI < 35:\n",
    "        a = \"您的體重為中度肥胖\"\n",
    "    else:\n",
    "        a = \"您的體重為重度肥胖\"\n",
    "\n",
    "    print(f\"\"\"{name} 您好\n",
    "\n",
    "身高是 {h} 公分\n",
    "體重是 {w} 公斤\n",
    "BMI 為 {round(BMI, 2)}\n",
    "{a}\"\"\")\n",
    "\n",
    "except ValueError as ve:\n",
    "    print(f\"輸入錯誤:{ve}\")\n",
    "except Exception as e:\n",
    "    print(f\"輸入格式錯誤:{e}\")\n"
   ]
  },
  {
   "cell_type": "code",
   "execution_count": 1,
   "metadata": {},
   "outputs": [
    {
     "name": "stdout",
     "output_type": "stream",
     "text": [
      "輸入錯誤: 身高請介於1~300公分之間\n"
     ]
    }
   ],
   "source": [
    "try:\n",
    "    name = input(\"請輸入姓名: \")\n",
    "    h = eval(input(\"請輸入身高(cm): \"))\n",
    "    w = eval(input(\"請輸入體重(kg): \"))\n",
    "    \n",
    "    if h <= 0 or h >= 300:\n",
    "        raise ValueError(\"身高請介於1~300公分之間\")\n",
    "    if w <= 0:\n",
    "        raise ValueError(\"體重請大於0公斤\")\n",
    "    \n",
    "    BMI = w / (h / 100) ** 2\n",
    "\n",
    "    if BMI < 18.5:\n",
    "        a = \"您的體重過輕\"\n",
    "    elif BMI < 24:\n",
    "        a = \"您的體重適中\"\n",
    "    elif BMI < 27:\n",
    "        a = \"您的體重過重\"\n",
    "    elif BMI < 30:\n",
    "        a = \"您的體重為輕度肥胖\"\n",
    "    elif BMI < 35:\n",
    "        a = \"您的體重為中度肥胖\"\n",
    "    else:\n",
    "        a = \"您的體重為重度肥胖\"\n",
    "\n",
    "    print(f\"\"\"{name} 您好\n",
    "\n",
    "身高是 {h} 公分\n",
    "體重是 {w} 公斤\n",
    "BMI 為 {round(BMI, 2)}\n",
    "{a}\"\"\")\n",
    "\n",
    "except ValueError as ve:\n",
    "    print(f\"輸入錯誤: {ve}\")\n",
    "except Exception as e:\n",
    "    print(f\"輸入格式錯誤: {e}\")\n"
   ]
  },
  {
   "cell_type": "code",
   "execution_count": null,
   "metadata": {},
   "outputs": [],
   "source": []
  }
 ],
 "metadata": {
  "kernelspec": {
   "display_name": "Python 3",
   "language": "python",
   "name": "python3"
  },
  "language_info": {
   "codemirror_mode": {
    "name": "ipython",
    "version": 3
   },
   "file_extension": ".py",
   "mimetype": "text/x-python",
   "name": "python",
   "nbconvert_exporter": "python",
   "pygments_lexer": "ipython3",
   "version": "3.11.9"
  }
 },
 "nbformat": 4,
 "nbformat_minor": 2
}
