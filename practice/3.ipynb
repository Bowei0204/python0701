{
 "cells": [
  {
   "cell_type": "code",
   "execution_count": 6,
   "metadata": {},
   "outputs": [
    {
     "name": "stdout",
     "output_type": "stream",
     "text": [
      "成績為80,甲\n"
     ]
    }
   ],
   "source": [
    "score = eval(input(\"請輸入成績\"))\n",
    "\n",
    "if (score >= 90 and score <= 100) :\n",
    "    print(f\"\"\"成績為{score},優\"\"\")\n",
    "elif (score >= 80 and score < 90) :\n",
    "    print(f\"\"\"成績為{score},甲\"\"\")\n",
    "elif (score >= 70 and score < 80) :\n",
    "    print(f\"\"\"成績為{score},乙\"\"\")\n",
    "elif (score >= 60 and score < 70) :\n",
    "    print(f\"\"\"成績為{score},丙\"\"\")\n",
    "elif (score >= 0 and score < 60) :\n",
    "    print(f\"\"\"成績為{score},丁\"\"\")\n",
    "else:\n",
    "    print(\"輸入格是錯誤,成績須介於0~100之間\")"
   ]
  },
  {
   "cell_type": "code",
   "execution_count": null,
   "metadata": {},
   "outputs": [],
   "source": []
  },
  {
   "cell_type": "code",
   "execution_count": null,
   "metadata": {},
   "outputs": [],
   "source": []
  }
 ],
 "metadata": {
  "kernelspec": {
   "display_name": "Python 3",
   "language": "python",
   "name": "python3"
  },
  "language_info": {
   "codemirror_mode": {
    "name": "ipython",
    "version": 3
   },
   "file_extension": ".py",
   "mimetype": "text/x-python",
   "name": "python",
   "nbconvert_exporter": "python",
   "pygments_lexer": "ipython3",
   "version": "3.11.9"
  }
 },
 "nbformat": 4,
 "nbformat_minor": 2
}
