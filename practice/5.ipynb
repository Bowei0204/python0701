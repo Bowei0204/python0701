{
 "cells": [
  {
   "cell_type": "code",
   "execution_count": 1,
   "metadata": {},
   "outputs": [
    {
     "name": "stdout",
     "output_type": "stream",
     "text": [
      "1 您好\n",
      "\n",
      "身高是 100 公分\n",
      "體重是 50 公斤\n",
      "BMI 為 50.0\n",
      "您的體重為重度肥胖\n",
      "\n",
      "程式結束\n"
     ]
    }
   ],
   "source": [
    "while True:\n",
    "    name = input(\"請輸入姓名: \")\n",
    "\n",
    "    try:\n",
    "        h = eval(input(\"請輸入身高(cm): \"))\n",
    "\n",
    "    except:\n",
    "        print(\"身高格式錯誤,請重新輸入\")\n",
    "        continue\n",
    "\n",
    "    else:\n",
    "        try:\n",
    "            w = eval(input(\"請輸入體重(kg): \"))\n",
    " \n",
    "        except:\n",
    "            print(\"體重格式錯誤,請重新輸入\")\n",
    "            continue\n",
    "\n",
    "        else:\n",
    "            BMI = w / (h / 100) ** 2\n",
    "\n",
    "            if   (BMI < 18.5):\n",
    "                a = \"您的體重過輕\"\n",
    "            elif (BMI < 24):\n",
    "                a = \"您的體重適中\"\n",
    "            elif (BMI < 27):\n",
    "                a = \"您的體重過重\"\n",
    "            elif (BMI < 30):\n",
    "                a = \"您的體重為輕度肥胖\"\n",
    "            elif (BMI < 35):\n",
    "                a = \"您的體重為中度肥胖\"\n",
    "            else:\n",
    "                a = \"您的體重為重度肥胖\"\n",
    "            \n",
    "            print(f\"\"\"{name} 您好\n",
    "\n",
    "身高是 {h} 公分\n",
    "體重是 {w} 公斤\n",
    "BMI 為 {round(BMI , ndigits = 2)}\n",
    "{a}\\n\"\"\")\n",
    "    \n",
    "    \n",
    "            str = input(\"[按q離開],[任一鍵繼續]\")\n",
    "            if str == \"q\":\n",
    "                break     \n",
    "                          \n",
    "            \n",
    "print(\"程式結束\")"
   ]
  }
 ],
 "metadata": {
  "kernelspec": {
   "display_name": "Python 3",
   "language": "python",
   "name": "python3"
  },
  "language_info": {
   "codemirror_mode": {
    "name": "ipython",
    "version": 3
   },
   "file_extension": ".py",
   "mimetype": "text/x-python",
   "name": "python",
   "nbconvert_exporter": "python",
   "pygments_lexer": "ipython3",
   "version": "3.11.9"
  }
 },
 "nbformat": 4,
 "nbformat_minor": 2
}
