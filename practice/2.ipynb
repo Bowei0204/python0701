{
 "cells": [
  {
   "cell_type": "code",
   "execution_count": 14,
   "metadata": {},
   "outputs": [
    {
     "name": "stdout",
     "output_type": "stream",
     "text": [
      "輸入格式錯誤\n"
     ]
    }
   ],
   "source": [
    "try:\n",
    "    n = int(input(\"請輸入一個整數\"))\n",
    "except:\n",
    "    print(\"輸入格式錯誤\")\n",
    "\n",
    "else:\n",
    "    if(n > 0):\n",
    "        if(n % 2 == 0):\n",
    "            print(f\"\"\"{n}是正數\n",
    "{n}是偶數\"\"\")\n",
    "        else:\n",
    "            print(f\"\"\"{n}是正數\n",
    "{n}是奇數\"\"\")\n",
    "\n",
    "\n",
    "    elif(n < 0):\n",
    "        if(n % 2 == 0):\n",
    "            print(f\"\"\"{n}是負數\n",
    "{n}是偶數\"\"\")\n",
    "        else:\n",
    "            print(f\"\"\"{n}是負數\n",
    "{n}是奇數\"\"\") \n",
    "\n",
    "\n",
    "    else:\n",
    "        print(f\"\"\"{n}為零\n",
    "{n}是偶數\"\"\")       "
   ]
  },
  {
   "cell_type": "code",
   "execution_count": 16,
   "metadata": {},
   "outputs": [
    {
     "name": "stdout",
     "output_type": "stream",
     "text": [
      "輸入格式錯誤\n"
     ]
    }
   ],
   "source": [
    "try:\n",
    "    n = int(input(\"請輸入一個整數\"))\n",
    "except:\n",
    "    print(\"輸入格式錯誤\")\n",
    "\n",
    "else:\n",
    "    if(n > 0):\n",
    "        if(n % 2 == 0):\n",
    "            print(f\"\"\"{n}是正數\n",
    "{n}是偶數\"\"\")\n",
    "        else:\n",
    "            print(f\"\"\"{n}是正數\n",
    "{n}是奇數\"\"\")\n",
    "\n",
    "\n",
    "    elif(n < 0):\n",
    "        if(n % 2 == 0):\n",
    "            print(f\"\"\"{n}是負數\n",
    "{n}是偶數\"\"\")\n",
    "        else:\n",
    "            print(f\"\"\"{n}是負數\n",
    "{n}是奇數\"\"\") \n",
    "\n",
    "\n",
    "    else:\n",
    "        print(f\"\"\"{n}為零\n",
    "{n}是偶數\"\"\")          "
   ]
  }
 ],
 "metadata": {
  "kernelspec": {
   "display_name": "Python 3",
   "language": "python",
   "name": "python3"
  },
  "language_info": {
   "codemirror_mode": {
    "name": "ipython",
    "version": 3
   },
   "file_extension": ".py",
   "mimetype": "text/x-python",
   "name": "python",
   "nbconvert_exporter": "python",
   "pygments_lexer": "ipython3",
   "version": "3.11.9"
  }
 },
 "nbformat": 4,
 "nbformat_minor": 2
}
