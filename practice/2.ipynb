{
 "cells": [
  {
   "cell_type": "code",
   "execution_count": 5,
   "metadata": {},
   "outputs": [
    {
     "name": "stdout",
     "output_type": "stream",
     "text": [
      "5是正數\n",
      "5是奇數\n"
     ]
    }
   ],
   "source": [
    "n = int(input(\"請輸入一個整數\"))\n",
    "\n",
    "if(n > 0):\n",
    "    if(n % 2 == 0):\n",
    "        print(f\"\"\"{n}是正數\n",
    "{n}是偶數\"\"\")\n",
    "    else:\n",
    "        print(f\"\"\"{n}是正數\n",
    "{n}是奇數\"\"\")\n",
    "\n",
    "\n",
    "elif(n < 0):\n",
    "    if(n % 2 == 0):\n",
    "        print(f\"\"\"{n}是負數\n",
    "{n}是偶數\"\"\")\n",
    "    else:\n",
    "       print(f\"\"\"{n}是負數\n",
    "{n}是奇數\"\"\") \n",
    "\n",
    "\n",
    "else:\n",
    "    print(f\"\"\"{n}為零\n",
    "{n}是偶數\"\"\")       "
   ]
  }
 ],
 "metadata": {
  "kernelspec": {
   "display_name": "Python 3",
   "language": "python",
   "name": "python3"
  },
  "language_info": {
   "codemirror_mode": {
    "name": "ipython",
    "version": 3
   },
   "file_extension": ".py",
   "mimetype": "text/x-python",
   "name": "python",
   "nbconvert_exporter": "python",
   "pygments_lexer": "ipython3",
   "version": "3.11.9"
  }
 },
 "nbformat": 4,
 "nbformat_minor": 2
}
