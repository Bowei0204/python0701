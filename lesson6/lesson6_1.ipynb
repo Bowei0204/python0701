{
 "cells": [
  {
   "cell_type": "code",
   "execution_count": 1,
   "metadata": {},
   "outputs": [
    {
     "name": "stdout",
     "output_type": "stream",
     "text": [
      "成績為1,丁\n"
     ]
    }
   ],
   "source": [
    "score = eval(input(\"請輸入成績\"))\n",
    "\n",
    "if (score >= 90 and score <= 100) :\n",
    "    print(f\"\"\"成績為{score},優\"\"\")\n",
    "elif (score >= 80 and score < 90) :\n",
    "    print(f\"\"\"成績為{score},甲\"\"\")\n",
    "elif (score >= 70 and score < 80) :\n",
    "    print(f\"\"\"成績為{score},乙\"\"\")\n",
    "elif (score >= 60 and score < 70) :\n",
    "    print(f\"\"\"成績為{score},丙\"\"\")\n",
    "elif (score >= 0 and score < 60) :\n",
    "    print(f\"\"\"成績為{score},丁\"\"\")\n",
    "else:\n",
    "    print(\"輸入格是錯誤,成績須介於0~100之間\")"
   ]
  },
  {
   "cell_type": "code",
   "execution_count": null,
   "metadata": {},
   "outputs": [],
   "source": [
    "total = 0\n",
    "\n",
    "print(total)"
   ]
  },
  {
   "cell_type": "code",
   "execution_count": 2,
   "metadata": {},
   "outputs": [
    {
     "name": "stdout",
     "output_type": "stream",
     "text": [
      "h\n",
      "e\n",
      "l\n",
      "l\n",
      "o\n"
     ]
    }
   ],
   "source": [
    "for word in \"hello\":\n",
    "    print(word)\n"
   ]
  },
  {
   "cell_type": "code",
   "execution_count": 7,
   "metadata": {},
   "outputs": [
    {
     "data": {
      "text/plain": [
       "55"
      ]
     },
     "execution_count": 7,
     "metadata": {},
     "output_type": "execute_result"
    }
   ],
   "source": [
    "total = 0\n",
    "for i in range(0,11):\n",
    "\n",
    "    total += i\n",
    "\n",
    "total\n"
   ]
  },
  {
   "cell_type": "code",
   "execution_count": null,
   "metadata": {},
   "outputs": [],
   "source": []
  }
 ],
 "metadata": {
  "kernelspec": {
   "display_name": "Python 3",
   "language": "python",
   "name": "python3"
  },
  "language_info": {
   "codemirror_mode": {
    "name": "ipython",
    "version": 3
   },
   "file_extension": ".py",
   "mimetype": "text/x-python",
   "name": "python",
   "nbconvert_exporter": "python",
   "pygments_lexer": "ipython3",
   "version": "3.11.9"
  }
 },
 "nbformat": 4,
 "nbformat_minor": 2
}
