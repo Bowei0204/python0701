{
 "cells": [
  {
   "cell_type": "code",
   "execution_count": 1,
   "metadata": {},
   "outputs": [
    {
     "name": "stdout",
     "output_type": "stream",
     "text": [
      "Help on function inputStr in module pyinputplus:\n",
      "\n",
      "inputStr(prompt='', default=None, blank=False, timeout=None, limit=None, strip=None, allowRegexes=None, blockRegexes=None, applyFunc=None, postValidateApplyFunc=None)\n",
      "    Prompts the user to enter any string input. This is similar to Python's ``input()``\n",
      "    and ``raw_input()`` functions, but with PyInputPlus's additional features\n",
      "    such as timeouts, retry limits, stripping, allowlist/blocklist, etc.\n",
      "    \n",
      "    Validation can be performed by the validationFunc argument, which raises\n",
      "    an exception if the input is invalid. The exception message is used to\n",
      "    tell the user why the input is invalid.\n",
      "    \n",
      "    Run ``help(pyinputplus.parameters)`` for an explanation of the common parameters.\n",
      "    \n",
      "    >>> result = inputStr('Enter name> ')\n",
      "    Enter name> Al\n",
      "    >>> result\n",
      "    'Al'\n",
      "\n"
     ]
    }
   ],
   "source": [
    "import pyinputplus as pyip\n",
    "\n",
    "help(pyip.inputStr)"
   ]
  },
  {
   "cell_type": "code",
   "execution_count": 2,
   "metadata": {},
   "outputs": [
    {
     "name": "stdout",
     "output_type": "stream",
     "text": [
      "請輸入姓名"
     ]
    },
    {
     "data": {
      "text/plain": [
       "'1'"
      ]
     },
     "execution_count": 2,
     "metadata": {},
     "output_type": "execute_result"
    }
   ],
   "source": [
    "name = pyip.inputStr(\"請輸入姓名\")\n",
    "name"
   ]
  },
  {
   "cell_type": "code",
   "execution_count": 3,
   "metadata": {},
   "outputs": [
    {
     "name": "stdout",
     "output_type": "stream",
     "text": [
      "請輸入身高"
     ]
    },
    {
     "data": {
      "text/plain": [
       "int"
      ]
     },
     "execution_count": 3,
     "metadata": {},
     "output_type": "execute_result"
    }
   ],
   "source": [
    "height = pyip.inputNum(\"請輸入身高\")\n",
    "type(height)"
   ]
  },
  {
   "cell_type": "code",
   "execution_count": 4,
   "metadata": {},
   "outputs": [
    {
     "name": "stdout",
     "output_type": "stream",
     "text": [
      "請輸入身高:Number must be at minimum 120.\n",
      "請輸入身高:Number must be at minimum 120.\n",
      "請輸入身高:222\n"
     ]
    }
   ],
   "source": [
    "height = pyip.inputNum(\"請輸入身高:\",min=120,max=250)\n",
    "print(height)"
   ]
  },
  {
   "cell_type": "code",
   "execution_count": 5,
   "metadata": {},
   "outputs": [
    {
     "name": "stdout",
     "output_type": "stream",
     "text": [
      "還要繼續嗎?(y,n)'1' is not a valid yes/no response.\n",
      "還要繼續嗎?(y,n)"
     ]
    },
    {
     "data": {
      "text/plain": [
       "'yes'"
      ]
     },
     "execution_count": 5,
     "metadata": {},
     "output_type": "execute_result"
    }
   ],
   "source": [
    "pyip.inputYesNo(\"還要繼續嗎?(y,n)\")"
   ]
  },
  {
   "cell_type": "code",
   "execution_count": 6,
   "metadata": {},
   "outputs": [
    {
     "name": "stdout",
     "output_type": "stream",
     "text": [
      "請輸入您的性別:\n",
      "1. 男生\n",
      "2. 女生\n",
      "3. 跨性別\n",
      "'a' is not a valid choice.\n",
      "請輸入您的性別:\n",
      "1. 男生\n",
      "2. 女生\n",
      "3. 跨性別\n",
      "'a' is not a valid choice.\n",
      "請輸入您的性別:\n",
      "1. 男生\n",
      "2. 女生\n",
      "3. 跨性別\n"
     ]
    },
    {
     "data": {
      "text/plain": [
       "'男生'"
      ]
     },
     "execution_count": 6,
     "metadata": {},
     "output_type": "execute_result"
    }
   ],
   "source": [
    "pyip.inputMenu(['男生','女生','跨性別'],\"請輸入您的性別:\\n\",numbered=True)"
   ]
  },
  {
   "cell_type": "code",
   "execution_count": 8,
   "metadata": {},
   "outputs": [],
   "source": [
    "class Person():\n",
    "    pass\n",
    "p1 = Person()\n",
    "\n",
    "p2 = Person()\n"
   ]
  },
  {
   "cell_type": "code",
   "execution_count": 11,
   "metadata": {},
   "outputs": [
    {
     "name": "stdout",
     "output_type": "stream",
     "text": [
      "Person的實體,my name is 1\n",
      "Person的實體,my name is 2\n"
     ]
    }
   ],
   "source": [
    "class Person():\n",
    "    def __init__(self,n:str):\n",
    "        self.name = n\n",
    "\n",
    "    def __repr__(self):\n",
    "        return f\"Person的實體,my name is {self.name}\"\n",
    "\n",
    "p1 = Person(\"1\")\n",
    "print(p1)\n",
    "\n",
    "p2 = Person(\"2\")\n",
    "print(p2)"
   ]
  },
  {
   "cell_type": "code",
   "execution_count": 15,
   "metadata": {},
   "outputs": [
    {
     "name": "stdout",
     "output_type": "stream",
     "text": [
      "a\n",
      "50\n",
      "50\n",
      "50\n",
      "Student的實體\n",
      "150\n",
      "50.0\n",
      "b\n",
      "90\n",
      "50\n",
      "60\n",
      "Student的實體\n",
      "200\n",
      "66.66666666666667\n"
     ]
    }
   ],
   "source": [
    "class Student(Person):\n",
    "    def __init__(self, n: str,ch = int ,en = int ,ma = int):\n",
    "        super().__init__(n=n)\n",
    "        self.chinese = ch\n",
    "        self.english = en\n",
    "        self.math = ma\n",
    "\n",
    "    def __repr__(self):\n",
    "        return \"Student的實體\"\n",
    "    \n",
    "    def sum(self) -> int:\n",
    "        return self.chinese + self.english + self.math\n",
    "    \n",
    "    def average(self) -> float:\n",
    "        return self.sum()/3\n",
    "\n",
    "ch = pyip.inputNum()\n",
    "en = pyip.inputNum()\n",
    "ma = pyip.inputNum()\n",
    "\n",
    "s1 = Student(\"a\",ch,en,ma)\n",
    "print(s1.name)\n",
    "print(s1.chinese)\n",
    "print(s1.english)\n",
    "print(s1.math)\n",
    "print(s1)\n",
    "print(s1.sum())\n",
    "print(s1.average())\n",
    "\n",
    "s2 = Student(\"b\",ch=90,en=50,ma=60)\n",
    "print(s2.name)\n",
    "print(s2.chinese)\n",
    "print(s2.english)\n",
    "print(s2.math)\n",
    "print(s2)\n",
    "print(s2.sum())\n",
    "print(s2.average())\n",
    "\n"
   ]
  }
 ],
 "metadata": {
  "kernelspec": {
   "display_name": "Python 3",
   "language": "python",
   "name": "python3"
  },
  "language_info": {
   "codemirror_mode": {
    "name": "ipython",
    "version": 3
   },
   "file_extension": ".py",
   "mimetype": "text/x-python",
   "name": "python",
   "nbconvert_exporter": "python",
   "pygments_lexer": "ipython3",
   "version": "3.11.9"
  }
 },
 "nbformat": 4,
 "nbformat_minor": 2
}
