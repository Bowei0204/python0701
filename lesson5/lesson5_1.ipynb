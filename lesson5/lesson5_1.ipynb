{
 "cells": [
  {
   "cell_type": "code",
   "execution_count": 5,
   "metadata": {},
   "outputs": [
    {
     "name": "stdout",
     "output_type": "stream",
     "text": [
      "True\n",
      "True\n",
      "True\n",
      "\n"
     ]
    }
   ],
   "source": [
    "print(7 < 8)\n",
    "print(6 > 4)\n",
    "print(7 == 7)\n",
    "print(1 != 6)"
   ]
  },
  {
   "cell_type": "code",
   "execution_count": 6,
   "metadata": {},
   "outputs": [
    {
     "name": "stdout",
     "output_type": "stream",
     "text": [
      "你已成年\n",
      "感謝你的配合 謝謝!\n"
     ]
    }
   ],
   "source": [
    "age = int(input(\"請輸入你的年齡\"))\n",
    "\n",
    "if(age >= 18):\n",
    "    print(\"你已成年\") \n",
    "else:\n",
    "    print(\"你未成年\")\n",
    "print(\"感謝你的配合 謝謝!\")"
   ]
  },
  {
   "cell_type": "code",
   "execution_count": 20,
   "metadata": {},
   "outputs": [
    {
     "name": "stdout",
     "output_type": "stream",
     "text": [
      "加分後總成績超過300分,不予加分,所以學生成績為300\n"
     ]
    }
   ],
   "source": [
    "score = eval(input(\"請輸入學生總成績(最高300分)\"))\n",
    "add = input(\"該位學生是否符合加分條件 y / n \")\n",
    "\n",
    "\n",
    "\n",
    "\n",
    "if  (add == \"y\"):\n",
    "    score1 = score * 1.05\n",
    "\n",
    "    if(score1>300):\n",
    "        score1 = 300\n",
    "        print(f\"\"\"加分後總成績超過300分,不予加分,所以學生成績為{score1}\"\"\")\n",
    "    else:\n",
    "        print(f\"\"\"學生總成績為{score},符合加分條件,加分後總成績為{round(score1)}\"\"\")\n",
    "\n",
    "else:\n",
    "    print(f\"\"\"學生總成績為{score},不符合加分條件\"\"\")\n"
   ]
  },
  {
   "cell_type": "code",
   "execution_count": 24,
   "metadata": {},
   "outputs": [
    {
     "name": "stdout",
     "output_type": "stream",
     "text": [
      "加分條件輸入錯誤\n",
      "程式結束\n"
     ]
    }
   ],
   "source": [
    "\n",
    "\n",
    "try:\n",
    "    score = eval(input(\"請輸入學生總成績(最高300分)\"))\n",
    "except:\n",
    "    print(\"成績輸入錯誤\")\n",
    "\n",
    "else:\n",
    "    \n",
    "    add = input(\"該位學生是否符合加分條件 y / n \")\n",
    "\n",
    "    if  (add == \"y\"):\n",
    "        score1 = score * 1.05\n",
    "        if(score1>300):\n",
    "            score1 = 300\n",
    "            print(f\"\"\"加分後總成績超過300分,不予加分,所以學生成績為{score1}\"\"\")\n",
    "        else:\n",
    "            print(f\"\"\"學生總成績為{score},符合加分條件,加分後總成績為{round(score1)}\"\"\")\n",
    "    elif(add == \"n\"):\n",
    "        print(f\"\"\"學生總成績為{score},不符合加分條件\"\"\")\n",
    "    else:\n",
    "        print(\"加分條件輸入錯誤\")\n",
    "\n",
    "print(\"程式結束\")"
   ]
  }
 ],
 "metadata": {
  "kernelspec": {
   "display_name": "Python 3",
   "language": "python",
   "name": "python3"
  },
  "language_info": {
   "codemirror_mode": {
    "name": "ipython",
    "version": 3
   },
   "file_extension": ".py",
   "mimetype": "text/x-python",
   "name": "python",
   "nbconvert_exporter": "python",
   "pygments_lexer": "ipython3",
   "version": "3.11.9"
  }
 },
 "nbformat": 4,
 "nbformat_minor": 2
}
