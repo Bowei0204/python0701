{
 "cells": [
  {
   "cell_type": "code",
   "execution_count": 1,
   "metadata": {},
   "outputs": [],
   "source": [
    "import numpy as np\n",
    "students = np.random.randint(50,101,size=[50,5])"
   ]
  },
  {
   "cell_type": "code",
   "execution_count": 3,
   "metadata": {},
   "outputs": [
    {
     "data": {
      "text/plain": [
       "2"
      ]
     },
     "metadata": {},
     "output_type": "display_data"
    },
    {
     "data": {
      "text/plain": [
       "250"
      ]
     },
     "metadata": {},
     "output_type": "display_data"
    },
    {
     "data": {
      "text/plain": [
       "(50, 5)"
      ]
     },
     "metadata": {},
     "output_type": "display_data"
    }
   ],
   "source": [
    "display(students.ndim)\n",
    "display(students.size)\n",
    "display(students.shape)"
   ]
  },
  {
   "cell_type": "code",
   "execution_count": 4,
   "metadata": {},
   "outputs": [
    {
     "name": "stdout",
     "output_type": "stream",
     "text": [
      "3650\n"
     ]
    }
   ],
   "source": [
    "#一個科目的總分\n",
    "print(students[:,0].sum())"
   ]
  },
  {
   "cell_type": "code",
   "execution_count": 5,
   "metadata": {},
   "outputs": [
    {
     "name": "stdout",
     "output_type": "stream",
     "text": [
      "361\n",
      "72.2\n",
      "91\n",
      "54\n",
      "12.890306435457616\n"
     ]
    }
   ],
   "source": [
    "#第一個學生的總分\n",
    "print(students[0].sum())\n",
    "print(students[0].mean())\n",
    "print(students[0].max())\n",
    "print(students[0].min())\n",
    "print(students[0].std())"
   ]
  },
  {
   "cell_type": "code",
   "execution_count": 6,
   "metadata": {},
   "outputs": [
    {
     "data": {
      "text/plain": [
       "array([72.2, 69.8, 75. , 88.8, 72. , 69.8, 72.2, 72.6, 74.4, 64.8, 83.4,\n",
       "       75.8, 76.8, 83.4, 74.8, 82. , 78.8, 77.4, 73.6, 62.4, 86.4, 73.2,\n",
       "       81.6, 79.6, 65.6, 69.8, 78.4, 69.8, 72.2, 75.8, 66.6, 69.8, 60.4,\n",
       "       81.8, 71.4, 70.4, 70. , 62.8, 78.6, 67.4, 80.2, 69.4, 69.2, 83.8,\n",
       "       80.6, 77. , 68.8, 84.2, 75.8, 75. ])"
      ]
     },
     "execution_count": 6,
     "metadata": {},
     "output_type": "execute_result"
    }
   ],
   "source": [
    "np.mean(students,axis=1)"
   ]
  }
 ],
 "metadata": {
  "kernelspec": {
   "display_name": "Python 3",
   "language": "python",
   "name": "python3"
  },
  "language_info": {
   "codemirror_mode": {
    "name": "ipython",
    "version": 3
   },
   "file_extension": ".py",
   "mimetype": "text/x-python",
   "name": "python",
   "nbconvert_exporter": "python",
   "pygments_lexer": "ipython3",
   "version": "3.11.9"
  }
 },
 "nbformat": 4,
 "nbformat_minor": 2
}
