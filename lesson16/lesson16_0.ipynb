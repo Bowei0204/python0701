{
 "cells": [
  {
   "cell_type": "code",
   "execution_count": null,
   "metadata": {},
   "outputs": [],
   "source": [
    "import matplotlib.pyplot as plt\n",
    "\n",
    "labels = ['Nokia', 'Samsung', 'Apple', 'Lumia']\n",
    "values = [20, 30, 45, 10]\n",
    "colors = ['yellow', 'green', 'red', 'blue']\n",
    "\n",
    "#下面2行等於 fig, ax = plt.subplot()\n",
    "figure = plt.figure()\n",
    "axes = figure.add_subplot()\n",
    "\n",
    "#使用上面註解 axes.pie 可替換成 ax.pie\n",
    "axes.pie(values, \n",
    "         labels=labels, \n",
    "         colors=colors, \n",
    "         explode=(0.3, 0, 0, 0), \n",
    "         autopct='%1.1f%%',\n",
    "         shadow=True, \n",
    "         startangle=180)\n",
    "\n",
    "plt.show()"
   ]
  }
 ],
 "metadata": {
  "kernelspec": {
   "display_name": "Python 3",
   "language": "python",
   "name": "python3"
  },
  "language_info": {
   "name": "python",
   "version": "3.11.9"
  }
 },
 "nbformat": 4,
 "nbformat_minor": 2
}
