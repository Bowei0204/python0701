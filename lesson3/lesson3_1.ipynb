{
 "cells": [
  {
   "cell_type": "code",
   "execution_count": null,
   "metadata": {},
   "outputs": [],
   "source": [
    "a=int(input(\"底數=\"))\n",
    "b=int(input(\"次方為=\"))\n",
    "c=a**b\n",
    "print(\"答案 =\", c)"
   ]
  },
  {
   "cell_type": "code",
   "execution_count": null,
   "metadata": {},
   "outputs": [],
   "source": [
    "a=int(input(\"x=\"))\n",
    "b=int(input(\"y=\"))\n",
    "c=a**b\n",
    "print(\"答案 =\", c)"
   ]
  }
 ],
 "metadata": {
  "language_info": {
   "name": "python"
  }
 },
 "nbformat": 4,
 "nbformat_minor": 2
}
