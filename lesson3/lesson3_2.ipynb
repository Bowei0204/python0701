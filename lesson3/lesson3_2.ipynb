{
 "cells": [
  {
   "cell_type": "code",
   "execution_count": 3,
   "metadata": {},
   "outputs": [
    {
     "name": "stdout",
     "output_type": "stream",
     "text": [
      "總和= 112.77\n"
     ]
    }
   ],
   "source": [
    "a=eval(input(\"a =\"))\n",
    "b=eval(input(\"b =\"))\n",
    "c=eval(input(\"c =\"))\n",
    "\n",
    "ans = a + b + c\n",
    "\n",
    "print(\"總和=\",ans)\n"
   ]
  },
  {
   "cell_type": "code",
   "execution_count": 10,
   "metadata": {},
   "outputs": [
    {
     "name": "stdout",
     "output_type": "stream",
     "text": [
      "1\n",
      "11\n",
      "111 \n",
      "\t1111\n"
     ]
    }
   ],
   "source": [
    "print(\"1\\n11\\n111 \\n\\t1111\")\n",
    "\n"
   ]
  },
  {
   "cell_type": "code",
   "execution_count": 15,
   "metadata": {},
   "outputs": [
    {
     "name": "stdout",
     "output_type": "stream",
     "text": [
      "fffk\n",
      "dklksa\n",
      "dasdad\n"
     ]
    }
   ],
   "source": [
    "print('''fffk\n",
    "dklksa\n",
    "dasdad''')"
   ]
  },
  {
   "cell_type": "code",
   "execution_count": 18,
   "metadata": {},
   "outputs": [
    {
     "name": "stdout",
     "output_type": "stream",
     "text": [
      "1-2-3-4-5-6."
     ]
    }
   ],
   "source": [
    "print(1,2,3,4,5,6,sep=\"-\",end=\".\")"
   ]
  },
  {
   "cell_type": "code",
   "execution_count": 23,
   "metadata": {},
   "outputs": [
    {
     "name": "stdout",
     "output_type": "stream",
     "text": [
      "123\n",
      "456\n",
      "789\n"
     ]
    }
   ],
   "source": [
    "a=3\n",
    "b=6\n",
    "c=9\n",
    "print(f\"\"\"12{a}\n",
    "45{b}\n",
    "78{c}\"\"\")\n",
    "\n"
   ]
  },
  {
   "cell_type": "code",
   "execution_count": 24,
   "metadata": {},
   "outputs": [
    {
     "name": "stdout",
     "output_type": "stream",
     "text": [
      "123456\n"
     ]
    }
   ],
   "source": [
    "a=2\n",
    "b=4\n",
    "c=6\n",
    "print(\"1\"+str(a)+\"3\"+str(b)+\"5\"+str(c))"
   ]
  },
  {
   "cell_type": "code",
   "execution_count": 34,
   "metadata": {},
   "outputs": [
    {
     "name": "stdout",
     "output_type": "stream",
     "text": [
      "我有3個水果\n",
      "4\n",
      "\n"
     ]
    }
   ],
   "source": [
    "a=\"\"\n",
    "a += f\"我有{input('我有幾個水果')}個水果\\n\"\n",
    "a += f\"{input()}\\n\"\n",
    "print(a)"
   ]
  },
  {
   "cell_type": "code",
   "execution_count": 36,
   "metadata": {},
   "outputs": [
    {
     "name": "stdout",
     "output_type": "stream",
     "text": [
      "半徑為5cm/m,園面積為78.5cm2/m2\n"
     ]
    }
   ],
   "source": [
    "r=eval(input(\"元半徑為\"))\n",
    "a = r**2*3.14\n",
    "print(f\"半徑為{r}cm/m,園面積為{round(a,ndigits=2)}cm2/m2\")"
   ]
  },
  {
   "cell_type": "code",
   "execution_count": null,
   "metadata": {},
   "outputs": [],
   "source": []
  }
 ],
 "metadata": {
  "kernelspec": {
   "display_name": "Python 3",
   "language": "python",
   "name": "python3"
  },
  "language_info": {
   "codemirror_mode": {
    "name": "ipython",
    "version": 3
   },
   "file_extension": ".py",
   "mimetype": "text/x-python",
   "name": "python",
   "nbconvert_exporter": "python",
   "pygments_lexer": "ipython3",
   "version": "3.11.9"
  }
 },
 "nbformat": 4,
 "nbformat_minor": 2
}
