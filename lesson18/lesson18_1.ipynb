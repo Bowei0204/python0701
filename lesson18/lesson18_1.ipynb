{
 "cells": [
  {
   "cell_type": "code",
   "execution_count": null,
   "metadata": {},
   "outputs": [],
   "source": [
    "import numpy as np\n",
    "import pandas as pd\n",
    "import random\n",
    "with open(\"names.txt\",encoding=\"utf-8\") as file:\n",
    "    content = file.read()\n",
    "\n",
    "names_list = content.split()\n",
    "names = random.choices(names_list,k=50)\n",
    "names   \n",
    "\n",
    "scores = np.random.randint(50,101,size=(50,5))\n",
    "student_df = pd.DataFrame(scores,\n",
    "             columns=['國文','英文','數學','地理','歷史'],\n",
    "             index=names)\n",
    "student_df"
   ]
  },
  {
   "cell_type": "code",
   "execution_count": null,
   "metadata": {},
   "outputs": [],
   "source": [
    "sum = student_df.sum(axis=1)\n",
    "mean = student_df.mean(axis=1)"
   ]
  },
  {
   "cell_type": "code",
   "execution_count": null,
   "metadata": {},
   "outputs": [],
   "source": [
    "student_df['總分'] = sum\n",
    "student_df['平均'] = mean\n",
    "student_df"
   ]
  },
  {
   "cell_type": "code",
   "execution_count": null,
   "metadata": {},
   "outputs": [],
   "source": [
    "rank = student_df.sort_values(by=\"總分\",ascending=False)\n",
    "rank['排名'] = rank['總分'].rank(ascending=False,method='min')\n",
    "rank"
   ]
  },
  {
   "cell_type": "code",
   "execution_count": null,
   "metadata": {},
   "outputs": [],
   "source": [
    "def fun(s):\n",
    "    s1 = s[['國文','英文','數學','地理','歷史']]\n",
    "    less60 = s1[s1<60].count()\n",
    "    return less60\n",
    "less60 = student_df.apply(fun,axis=1)\n",
    "student_df['不及格科目數量'] = less60"
   ]
  },
  {
   "cell_type": "code",
   "execution_count": null,
   "metadata": {},
   "outputs": [],
   "source": [
    "def fun1(s):\n",
    "    s1 = s[['國文','英文','數學','地理','歷史']]\n",
    "    less60 = s1[s1<60]\n",
    "    return less60.index.values\n",
    " \n",
    "student_df['不及格科目'] = student_df.apply(fun1,axis=1)"
   ]
  },
  {
   "cell_type": "code",
   "execution_count": null,
   "metadata": {},
   "outputs": [],
   "source": [
    "student_df"
   ]
  }
 ],
 "metadata": {
  "kernelspec": {
   "display_name": "Python 3",
   "language": "python",
   "name": "python3"
  },
  "language_info": {
   "codemirror_mode": {
    "name": "ipython",
    "version": 3
   },
   "file_extension": ".py",
   "mimetype": "text/x-python",
   "name": "python",
   "nbconvert_exporter": "python",
   "pygments_lexer": "ipython3",
   "version": "3.11.9"
  }
 },
 "nbformat": 4,
 "nbformat_minor": 2
}
