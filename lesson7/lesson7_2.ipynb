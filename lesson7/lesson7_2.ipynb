{
 "cells": [
  {
   "cell_type": "code",
   "execution_count": 1,
   "metadata": {},
   "outputs": [
    {
     "data": {
      "text/plain": [
       "0.8830772209244989"
      ]
     },
     "execution_count": 1,
     "metadata": {},
     "output_type": "execute_result"
    }
   ],
   "source": [
    "import random\n",
    "random.random()"
   ]
  },
  {
   "cell_type": "code",
   "execution_count": 4,
   "metadata": {},
   "outputs": [
    {
     "data": {
      "text/plain": [
       "1.980789433833364"
      ]
     },
     "execution_count": 4,
     "metadata": {},
     "output_type": "execute_result"
    }
   ],
   "source": [
    "random.uniform(1,2)"
   ]
  },
  {
   "cell_type": "code",
   "execution_count": 5,
   "metadata": {},
   "outputs": [
    {
     "data": {
      "text/plain": [
       "4"
      ]
     },
     "execution_count": 5,
     "metadata": {},
     "output_type": "execute_result"
    }
   ],
   "source": [
    "random.randint(1,5)"
   ]
  },
  {
   "cell_type": "code",
   "execution_count": 8,
   "metadata": {},
   "outputs": [
    {
     "name": "stdout",
     "output_type": "stream",
     "text": [
      "==================猜數字=================\n",
      "\n",
      "答案介於1~49之間\n",
      "答案介於26~49之間\n",
      "答案介於26~39之間\n",
      "bingo!答對囉! 答案為33 您總共猜了4次\n",
      "程式結束\n"
     ]
    }
   ],
   "source": [
    "import random\n",
    "min = 1\n",
    "max = 100\n",
    "count = 0\n",
    "ans = random.randint(min,max)\n",
    "print(\"==================猜數字=================\\n\")\n",
    "\n",
    "while True:\n",
    "    count += 1\n",
    "    try:\n",
    "        n = int(input(f\"請輸入一個整數介於{min}~{max}之間\"))\n",
    "    \n",
    "    except:\n",
    "        print(\"輸入格式錯誤\")\n",
    "        continue\n",
    "\n",
    "    if n < min or n > max:\n",
    "        print(\"超出範圍\")\n",
    "        continue\n",
    "\n",
    "    if n > ans:\n",
    "        max = n - 1\n",
    "        print(f\"答案介於{min}~{max}之間\")\n",
    "        \n",
    "    elif n < ans: \n",
    "        min = n + 1\n",
    "        print(f\"答案介於{min}~{max}之間\")\n",
    "\n",
    "    elif n == ans:\n",
    "        print(f\"bingo!答對囉! 答案為{ans} 您總共猜了{count}次\")\n",
    "        break\n",
    "\n",
    "print(\"程式結束\")\n",
    "\n"
   ]
  }
 ],
 "metadata": {
  "kernelspec": {
   "display_name": "Python 3",
   "language": "python",
   "name": "python3"
  },
  "language_info": {
   "codemirror_mode": {
    "name": "ipython",
    "version": 3
   },
   "file_extension": ".py",
   "mimetype": "text/x-python",
   "name": "python",
   "nbconvert_exporter": "python",
   "pygments_lexer": "ipython3",
   "version": "3.11.9"
  }
 },
 "nbformat": 4,
 "nbformat_minor": 2
}
