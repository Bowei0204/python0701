{
 "cells": [
  {
   "cell_type": "code",
   "execution_count": 1,
   "metadata": {},
   "outputs": [
    {
     "name": "stdout",
     "output_type": "stream",
     "text": [
      "JI\n",
      "JHJH\n",
      "LKKK\n",
      "KKKKK\n",
      "KJLKJQ\n",
      "結束\n"
     ]
    }
   ],
   "source": [
    "str = input(\"輸入小寫英文,[按q離開]\")\n",
    "while str != \"q\":\n",
    "    print(str.upper())\n",
    "    str = input(\"輸入小寫英文,[按q離開]\")\n",
    "\n",
    "print(\"結束\")\n"
   ]
  },
  {
   "cell_type": "code",
   "execution_count": 3,
   "metadata": {},
   "outputs": [
    {
     "name": "stdout",
     "output_type": "stream",
     "text": [
      "hdjfhsj\n",
      "sdfjksdfj\n",
      "結束\n"
     ]
    }
   ],
   "source": [
    "while True:\n",
    "\n",
    "    str = input(\"輸入小寫英文,[按q離開]\")\n",
    "    if str == \"q\":\n",
    "        break \n",
    "    print(str.upper())   # lower \n",
    "            \n",
    "\n",
    "print(\"結束\")"
   ]
  },
  {
   "cell_type": "code",
   "execution_count": 5,
   "metadata": {},
   "outputs": [
    {
     "name": "stdout",
     "output_type": "stream",
     "text": [
      "輸入格式錯誤,請重新輸入\n",
      "輸入格式錯誤,請重新輸入\n",
      "輸入格式錯誤,請重新輸入\n",
      "1\n",
      "9\n",
      "25\n",
      "49\n",
      "81\n",
      "121\n",
      "169\n",
      "225\n",
      "289\n",
      "361\n",
      "結束\n"
     ]
    }
   ],
   "source": [
    "while True:\n",
    "\n",
    "    str = input(\"輸入一個整數,[按q離開]\")\n",
    "    if str == \"q\":\n",
    "        break \n",
    "    \n",
    "    try:\n",
    "        num = int(str)\n",
    "        \n",
    "    except:\n",
    "        print(\"輸入格式錯誤,請重新輸入\")\n",
    "        continue\n",
    "\n",
    "    if num % 2 != 0:\n",
    "        print(num ** 2)\n",
    "            \n",
    "\n",
    "print(\"結束\")"
   ]
  },
  {
   "cell_type": "code",
   "execution_count": null,
   "metadata": {},
   "outputs": [],
   "source": []
  }
 ],
 "metadata": {
  "kernelspec": {
   "display_name": "Python 3",
   "language": "python",
   "name": "python3"
  },
  "language_info": {
   "codemirror_mode": {
    "name": "ipython",
    "version": 3
   },
   "file_extension": ".py",
   "mimetype": "text/x-python",
   "name": "python",
   "nbconvert_exporter": "python",
   "pygments_lexer": "ipython3",
   "version": "3.11.9"
  }
 },
 "nbformat": 4,
 "nbformat_minor": 2
}
