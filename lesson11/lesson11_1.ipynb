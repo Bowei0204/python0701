{
 "cells": [
  {
   "cell_type": "code",
   "execution_count": 5,
   "metadata": {},
   "outputs": [
    {
     "data": {
      "text/plain": [
       "'/workspaces/python0701/lesson11/data/class.csv'"
      ]
     },
     "execution_count": 5,
     "metadata": {},
     "output_type": "execute_result"
    }
   ],
   "source": [
    "import os\n",
    "\n",
    "file_path = os.path.abspath(__name__) #檔案的絕對位置\n",
    "current_dir_name = os.path.dirname(file_path) #取得目前的目錄\n",
    "file_position = os.path.join(current_dir_name,'data','class.csv') #操作檔案的絕對位置\n",
    "if os.path.isfile(file_position):\n",
    "    print(\"有這個檔\")\n",
    "else:\n",
    "    print(\"沒有這個檔\")"
   ]
  },
  {
   "cell_type": "code",
   "execution_count": 13,
   "metadata": {},
   "outputs": [],
   "source": [
    "file = open(file_position,mode=\"w\",encoding=\"utf-8\")\n",
    "file.write(\"姓名,國文,英文,數學\\n1,100,100,100\")\n",
    "file.close()"
   ]
  },
  {
   "cell_type": "code",
   "execution_count": 15,
   "metadata": {},
   "outputs": [],
   "source": [
    "#自動關閉file物件\n",
    "with open(file_position,mode=\"w\",encoding=\"utf-8\") as file:\n",
    "    file.write(\"姓名,國文,英文,數學\\n1,100,100,100\")\n",
    "    file.write(\"\\n2,10,10,10\")\n"
   ]
  },
  {
   "cell_type": "code",
   "execution_count": 16,
   "metadata": {},
   "outputs": [
    {
     "data": {
      "text/plain": [
       "{'姓名': 1, '國文': 1, '英文': 1, '數學': 1}"
      ]
     },
     "execution_count": 16,
     "metadata": {},
     "output_type": "execute_result"
    }
   ],
   "source": [
    "#用符號1位學生\n",
    "{\"姓名\":1,\n",
    " '國文':1,\n",
    " '英文':1,\n",
    " '數學':1}"
   ]
  },
  {
   "cell_type": "code",
   "execution_count": 20,
   "metadata": {},
   "outputs": [
    {
     "data": {
      "text/plain": [
       "[{'姓名': '1', '國文': 1, '英文': 1, '數學': 1},\n",
       " {'姓名': '2', '國文': 2, '英文': 2, '數學': 2}]"
      ]
     },
     "execution_count": 20,
     "metadata": {},
     "output_type": "execute_result"
    }
   ],
   "source": [
    "#用符號2位學生\n",
    "[{\"姓名\":'1',\n",
    " '國文':1,\n",
    " '英文':1,\n",
    " '數學':1}\n",
    " ,\n",
    " {\"姓名\":'2',\n",
    " '國文':2,\n",
    " '英文':2,\n",
    " '數學':2}\n",
    " ]"
   ]
  },
  {
   "cell_type": "code",
   "execution_count": null,
   "metadata": {},
   "outputs": [],
   "source": [
    "#使用list()建立list實體\n",
    "students = list()\n",
    "students.append({\"姓名\":'1',\n",
    " '國文':1,\n",
    " '英文':1,\n",
    " '數學':1})\n",
    "\n",
    "students.append({\"姓名\":'2',\n",
    " '國文':2,\n",
    " '英文':2,\n",
    " '數學':2})\n",
    "\n",
    "students"
   ]
  }
 ],
 "metadata": {
  "kernelspec": {
   "display_name": "Python 3",
   "language": "python",
   "name": "python3"
  },
  "language_info": {
   "codemirror_mode": {
    "name": "ipython",
    "version": 3
   },
   "file_extension": ".py",
   "mimetype": "text/x-python",
   "name": "python",
   "nbconvert_exporter": "python",
   "pygments_lexer": "ipython3",
   "version": "3.11.9"
  }
 },
 "nbformat": 4,
 "nbformat_minor": 2
}
