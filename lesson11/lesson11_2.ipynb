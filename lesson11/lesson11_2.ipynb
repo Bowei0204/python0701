{
 "cells": [
  {
   "cell_type": "code",
   "execution_count": 1,
   "metadata": {},
   "outputs": [
    {
     "data": {
      "text/plain": [
       "['游治旺',\n",
       " '翁均安',\n",
       " '傅佳琳',\n",
       " '王孝純',\n",
       " '張明惟',\n",
       " '林珍旺',\n",
       " '潘英迪',\n",
       " '張伊映',\n",
       " '胡芳瑜',\n",
       " '鍾俞禎',\n",
       " '簡佳樺',\n",
       " '彭虹屏',\n",
       " '陳冠霞',\n",
       " '方雅慧',\n",
       " '謝貞妃',\n",
       " '楊建安',\n",
       " '李佳彥',\n",
       " '林士凱',\n",
       " '劉嘉泰',\n",
       " '羅佩樺',\n",
       " '楊綺芬',\n",
       " '林建宏',\n",
       " '張凱妮',\n",
       " '戚亨',\n",
       " '童建霖',\n",
       " '聶心怡',\n",
       " '白美珍',\n",
       " '賴又琦',\n",
       " '臧怡君',\n",
       " '謝水儒',\n",
       " '游詩亞',\n",
       " '游一鈺',\n",
       " '吳欣書',\n",
       " '高信宏',\n",
       " '蔡欣汝',\n",
       " '吳振瑋',\n",
       " '王梅劭',\n",
       " '謝佳穎',\n",
       " '張家秀',\n",
       " '陳信宏',\n",
       " '杜儀鳳',\n",
       " '方筠紹',\n",
       " '黃佩玲',\n",
       " '王志謙',\n",
       " '陳美惠',\n",
       " '郭致恬',\n",
       " '蔡明平',\n",
       " '洪阿惠',\n",
       " '陳筱涵',\n",
       " '李雅怡']"
      ]
     },
     "execution_count": 1,
     "metadata": {},
     "output_type": "execute_result"
    }
   ],
   "source": [
    "import random\n",
    "with open('names.txt',encoding='utf-8') as file:\n",
    "    contents:str = file.read()\n",
    "    names:list[str] = contents.split(sep='\\n')\n",
    "    students_names = random.choices(names,k=50)\n",
    "students_names"
   ]
  }
 ],
 "metadata": {
  "kernelspec": {
   "display_name": "Python 3",
   "language": "python",
   "name": "python3"
  },
  "language_info": {
   "codemirror_mode": {
    "name": "ipython",
    "version": 3
   },
   "file_extension": ".py",
   "mimetype": "text/x-python",
   "name": "python",
   "nbconvert_exporter": "python",
   "pygments_lexer": "ipython3",
   "version": "3.11.9"
  }
 },
 "nbformat": 4,
 "nbformat_minor": 2
}
