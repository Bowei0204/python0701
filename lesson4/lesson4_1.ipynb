{
 "cells": [
  {
   "cell_type": "code",
   "execution_count": 8,
   "metadata": {},
   "outputs": [
    {
     "name": "stdout",
     "output_type": "stream",
     "text": [
      "對邊為50\n",
      "斜邊為50\n",
      "角度為90.0\n",
      "\n"
     ]
    }
   ],
   "source": [
    "import math \n",
    "\n",
    "a = eval(input(\"請輸入對邊\"))\n",
    "b = eval(input(\"請輸入斜邊\"))\n",
    "radian = math.asin(a / b)\n",
    "degree = math.degrees(radian)\n",
    "\n",
    "print(f\"\"\"對邊為{a}\n",
    "斜邊為{b}\n",
    "角度為{round(degree,ndigits=2)}\n",
    "\"\"\")"
   ]
  },
  {
   "cell_type": "code",
   "execution_count": 7,
   "metadata": {},
   "outputs": [
    {
     "name": "stdout",
     "output_type": "stream",
     "text": [
      "[0, 5, 9, 14]的總和為28  標準差為5.94418483337567\n",
      "[5, 6, 8, 9]的總和為28  標準差為1.8257418583505538\n"
     ]
    }
   ],
   "source": [
    "import statistics\n",
    "\n",
    "#sum([]) 算[]內總和\n",
    "sum1 = sum([0, 5, 9, 14])  \n",
    "sum2 = sum([5, 6, 8, 9])\n",
    "\n",
    "#statistics.stdev([])  算[]內標準差\n",
    "std1 = statistics.stdev([0, 5, 9, 14])    \n",
    "std2 = statistics.stdev([5, 6, 8, 9])\n",
    "\n",
    "print(f\"\"\"[0, 5, 9, 14]的總和為{sum1}  標準差為{std1}\n",
    "[5, 6, 8, 9]的總和為{sum2}  標準差為{std2}\"\"\")"
   ]
  },
  {
   "cell_type": "code",
   "execution_count": null,
   "metadata": {},
   "outputs": [],
   "source": []
  }
 ],
 "metadata": {
  "kernelspec": {
   "display_name": "Python 3",
   "language": "python",
   "name": "python3"
  },
  "language_info": {
   "codemirror_mode": {
    "name": "ipython",
    "version": 3
   },
   "file_extension": ".py",
   "mimetype": "text/x-python",
   "name": "python",
   "nbconvert_exporter": "python",
   "pygments_lexer": "ipython3",
   "version": "3.11.9"
  }
 },
 "nbformat": 4,
 "nbformat_minor": 2
}
