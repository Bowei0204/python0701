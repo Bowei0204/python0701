{
 "cells": [
  {
   "cell_type": "code",
   "execution_count": 4,
   "metadata": {},
   "outputs": [],
   "source": [
    "def menu(wine,entree=\"壽司\",dessert=\"蛋捲\"):\n",
    "    print(f\"酒類:{wine}\")\n",
    "    print(f\"主餐:{entree}\")\n",
    "    print(f\"甜點:{dessert}\")"
   ]
  },
  {
   "cell_type": "code",
   "execution_count": 5,
   "metadata": {},
   "outputs": [
    {
     "name": "stdout",
     "output_type": "stream",
     "text": [
      "酒類:葡萄酒\n",
      "主餐:壽司\n",
      "甜點:蛋捲\n",
      "========\n",
      "酒類:葡萄酒\n",
      "主餐:壽司\n",
      "甜點:冰淇淋\n",
      "========\n",
      "酒類:葡萄酒\n",
      "主餐:雞排\n",
      "甜點:冰淇淋\n"
     ]
    }
   ],
   "source": [
    "menu('葡萄酒')\n",
    "print(\"========\")\n",
    "menu('葡萄酒',dessert='冰淇淋')\n",
    "print(\"========\")\n",
    "menu('葡萄酒',dessert='冰淇淋',entree='雞排')"
   ]
  },
  {
   "cell_type": "code",
   "execution_count": 6,
   "metadata": {},
   "outputs": [],
   "source": [
    "def menu(wine,entree=\"壽司\",/,dessert=\"蛋捲\"):\n",
    "    print(f\"酒類:{wine}\")\n",
    "    print(f\"主餐:{entree}\")\n",
    "    print(f\"甜點:{dessert}\")"
   ]
  },
  {
   "cell_type": "code",
   "execution_count": 9,
   "metadata": {},
   "outputs": [
    {
     "name": "stdout",
     "output_type": "stream",
     "text": [
      "酒類:葡萄酒\n",
      "主餐:壽司\n",
      "甜點:蛋捲\n",
      "========\n",
      "酒類:葡萄酒\n",
      "主餐:壽司\n",
      "甜點:冰淇淋\n",
      "========\n",
      "酒類:葡萄酒\n",
      "主餐:雞排\n",
      "甜點:冰淇淋\n"
     ]
    }
   ],
   "source": [
    "menu('葡萄酒')\n",
    "print(\"========\")\n",
    "menu('葡萄酒',dessert='冰淇淋')\n",
    "print(\"========\")\n",
    "menu('葡萄酒','雞排',dessert='冰淇淋')"
   ]
  },
  {
   "cell_type": "code",
   "execution_count": 12,
   "metadata": {},
   "outputs": [
    {
     "name": "stdout",
     "output_type": "stream",
     "text": [
      "(1, 2, 3, 'b', 'c')\n"
     ]
    }
   ],
   "source": [
    "# 參數前有*符號->沒有限定數量的引數值呼叫\n",
    "def a(*args):\n",
    "    print(args)\n",
    "\n",
    "a(1,2,3,\"b\",\"c\")"
   ]
  },
  {
   "cell_type": "code",
   "execution_count": 13,
   "metadata": {},
   "outputs": [
    {
     "name": "stdout",
     "output_type": "stream",
     "text": [
      "{'one': 1, 'two': 2, 'code': 'tw'}\n"
     ]
    }
   ],
   "source": [
    "# 參數前有**符號->沒有限定數量的引數名稱呼叫\n",
    "def print_kwargs(**kwargs):\n",
    "    print(kwargs)\n",
    "\n",
    "print_kwargs(one=1, two=2, code='tw')"
   ]
  },
  {
   "cell_type": "code",
   "execution_count": 14,
   "metadata": {},
   "outputs": [
    {
     "name": "stdout",
     "output_type": "stream",
     "text": [
      "(1, 2, 3, 'a', 'b', 'c', True)\n",
      "{'one': 1, 'two': 2, 'code': 'tw'}\n"
     ]
    }
   ],
   "source": [
    "def print_all(*args,**kwargs):\n",
    "    print(args)\n",
    "    print(kwargs)\n",
    "\n",
    "print_all(1, 2, 3, 'a', 'b', 'c', True,one=1, two=2, code='tw')"
   ]
  }
 ],
 "metadata": {
  "kernelspec": {
   "display_name": "Python 3",
   "language": "python",
   "name": "python3"
  },
  "language_info": {
   "codemirror_mode": {
    "name": "ipython",
    "version": 3
   },
   "file_extension": ".py",
   "mimetype": "text/x-python",
   "name": "python",
   "nbconvert_exporter": "python",
   "pygments_lexer": "ipython3",
   "version": "3.11.9"
  }
 },
 "nbformat": 4,
 "nbformat_minor": 2
}
