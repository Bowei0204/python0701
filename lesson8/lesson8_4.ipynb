{
 "cells": [
  {
   "cell_type": "code",
   "execution_count": 1,
   "metadata": {},
   "outputs": [],
   "source": [
    "import pyinputplus as pyip"
   ]
  },
  {
   "cell_type": "code",
   "execution_count": 4,
   "metadata": {},
   "outputs": [
    {
     "name": "stdout",
     "output_type": "stream",
     "text": [
      "give me number:3.5\n"
     ]
    }
   ],
   "source": [
    "import pyinputplus as pyip\n",
    "value = pyip.inputNum(\"give me number:\")\n",
    "print(value)"
   ]
  },
  {
   "cell_type": "code",
   "execution_count": 8,
   "metadata": {},
   "outputs": [
    {
     "name": "stdout",
     "output_type": "stream",
     "text": [
      "離開(No)or繼續(Yes)yes\n"
     ]
    }
   ],
   "source": []
  },
  {
   "cell_type": "code",
   "execution_count": 9,
   "metadata": {},
   "outputs": [
    {
     "name": "stdout",
     "output_type": "stream",
     "text": [
      "離開(No)or繼續(Yes)no\n",
      "give me number:"
     ]
    },
    {
     "data": {
      "text/plain": [
       "4"
      ]
     },
     "execution_count": 9,
     "metadata": {},
     "output_type": "execute_result"
    }
   ],
   "source": [
    "answer=pyip.inputYesNo(\"離開(No)or繼續(Yes)\")\n",
    "print(answer)\n",
    "a = pyip.inputNum(\"give me number:\")\n",
    "a"
   ]
  },
  {
   "cell_type": "code",
   "execution_count": 9,
   "metadata": {},
   "outputs": [
    {
     "name": "stdout",
     "output_type": "stream",
     "text": [
      "Your guess: 0000\n",
      "0A0B\n",
      "Your guess: 1111\n",
      "0A0B\n",
      "Your guess: 2222\n",
      "0A0B\n",
      "Your guess: 3333\n",
      "2A2B\n",
      "Your guess: 4444\n",
      "0A0B\n",
      "Your guess: 5555\n",
      "0A0B\n",
      "Your guess: 6666\n",
      "1A3B\n",
      "Your guess: 7777\n",
      "0A0B\n",
      "Your guess: 8888\n",
      "1A3B\n",
      "Your guess: 3300\n",
      "1A1B\n",
      "Your guess: 0033\n",
      "1A1B\n",
      "Your guess: 3003\n",
      "1A1B\n",
      "Your guess: 3030\n",
      "2A0B\n",
      "Your guess: 0000\n",
      "0A0B\n",
      "Your guess: 3638\n",
      "2A2B\n",
      "Your guess: 3836\n",
      "4A0B\n",
      "Congratulations! You guessed the number 3836.\n"
     ]
    }
   ],
   "source": [
    "import random\n",
    "\n",
    "def generate_answer():\n",
    "    \"\"\"\n",
    "    Generate a random 4-digit number with no repeated digits.\n",
    "\n",
    "    Returns:\n",
    "        The generated 4-digit number as a string.\n",
    "    \"\"\"\n",
    "    answer = \"\"\n",
    "    while len(answer) < 4:\n",
    "        digit = random.randint(0, 9)\n",
    "        if digit not in set(answer):\n",
    "            answer += str(digit)\n",
    "    return answer\n",
    "\n",
    "def play_game():\n",
    "    \"\"\"\n",
    "    Play the guessing game without guess limit and displays player's input.\n",
    "\n",
    "    The game randomly generates a 4-digit number with no repeated digits, and the player keeps guessing until they enter the correct number.\n",
    "    After each guess, the player receives feedback telling them how many digits are correct in both position (A)\n",
    "    and how many digits are correct but in the wrong position (B). The player's input is also displayed along with the feedback.\n",
    "\n",
    "    Returns:\n",
    "        None.\n",
    "    \"\"\"\n",
    "    answer = generate_answer()\n",
    "\n",
    "    while True:\n",
    "        guess = input(\"Enter your guess: \")\n",
    "\n",
    "        if len(guess) != 4 or not guess.isdigit():\n",
    "            print(\"Invalid guess. Please enter a 4-digit number.\")\n",
    "            continue\n",
    "\n",
    "        a_count = 0\n",
    "        b_count = 0\n",
    "        for i in range(4):\n",
    "            if guess[i] == answer[i]:\n",
    "                a_count += 1\n",
    "            elif guess[i] in answer:\n",
    "                b_count += 1\n",
    "\n",
    "        print(f\"Your guess: {guess}\")  # Display player's guess\n",
    "        print(f\"{a_count}A{b_count}B\")\n",
    "\n",
    "        if a_count == 4:\n",
    "            print(f\"Congratulations! You guessed the number {answer}.\")\n",
    "            break\n",
    "\n",
    "if __name__ == \"__main__\":\n",
    "    play_game()\n"
   ]
  }
 ],
 "metadata": {
  "kernelspec": {
   "display_name": "Python 3",
   "language": "python",
   "name": "python3"
  },
  "language_info": {
   "codemirror_mode": {
    "name": "ipython",
    "version": 3
   },
   "file_extension": ".py",
   "mimetype": "text/x-python",
   "name": "python",
   "nbconvert_exporter": "python",
   "pygments_lexer": "ipython3",
   "version": "3.11.9"
  }
 },
 "nbformat": 4,
 "nbformat_minor": 2
}
