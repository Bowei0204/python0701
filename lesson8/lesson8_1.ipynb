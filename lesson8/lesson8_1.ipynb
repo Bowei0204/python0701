{
 "cells": [
  {
   "cell_type": "code",
   "execution_count": 2,
   "metadata": {},
   "outputs": [
    {
     "name": "stdout",
     "output_type": "stream",
     "text": [
      "a平-b平=75\n"
     ]
    }
   ],
   "source": [
    "def function(a,b):\n",
    "    return a**2-b**2\n",
    "\n",
    "a=int(input(\"a=\"))\n",
    "b=int(input(\"b=\"))\n",
    "print(f\"a平-b平={function(a,b)}\")"
   ]
  },
  {
   "cell_type": "code",
   "execution_count": 1,
   "metadata": {},
   "outputs": [
    {
     "name": "stdout",
     "output_type": "stream",
     "text": [
      "58\n",
      "==================猜數字=================\n",
      "\n",
      "答案介於50~100之間\n",
      "答案介於50~75之間\n",
      "答案介於50~63之間\n",
      "超出範圍\n",
      "答案介於56~63之間\n",
      "答案介於56~60之間\n",
      "bingo!答對囉! 答案為58 您總共猜了7次\n"
     ]
    }
   ],
   "source": [
    "import random\n",
    "def play():\n",
    "    min = 1\n",
    "    max = 100\n",
    "    count = 0\n",
    "    ans = random.randint(min,max)\n",
    "    print(ans)\n",
    "    print(\"==================猜數字=================\\n\")\n",
    "\n",
    "    while True:\n",
    "        count += 1\n",
    "        try:\n",
    "            n = int(input(f\"請輸入一個整數介於{min}~{max}之間\"))\n",
    "        \n",
    "        except:\n",
    "            print(\"輸入格式錯誤\")\n",
    "            continue\n",
    "\n",
    "        if n < min or n > max:\n",
    "            print(\"超出範圍\")\n",
    "            continue\n",
    "\n",
    "        if n > ans:\n",
    "            max = n \n",
    "            print(f\"答案介於{min}~{max}之間\")\n",
    "            \n",
    "        elif n < ans: \n",
    "            min = n \n",
    "            print(f\"答案介於{min}~{max}之間\")\n",
    "\n",
    "        elif n == ans:\n",
    "            print(f\"bingo!答對囉! 答案為{ans} 您總共猜了{count}次\")\n",
    "            print(\"要再來一局嗎?[y/n]\")\n",
    "            break\n",
    "        \n",
    "while True:\n",
    "    play()\n",
    "    str = input(\"要再來一局嗎?[y/n]\")\n",
    "    if str == \"n\" :\n",
    "        if str ==\"n\":\n",
    "            print(\"不要\")                                                             \n",
    "        elif str == \"y\":\n",
    "            print(\"再來一局\")\n",
    "            min = 1\n",
    "            max = 100\n",
    "            count = 0\n",
    "            ans = random.randint(min,max) \n",
    "            print(\"==================猜數字=================\\n\")\n",
    "        break\n",
    " \n",
    "print(\"程式結束\")\n",
    "\n"
   ]
  },
  {
   "cell_type": "code",
   "execution_count": 1,
   "metadata": {},
   "outputs": [
    {
     "name": "stdout",
     "output_type": "stream",
     "text": [
      "79\n",
      "===========猜數字遊戲============\n",
      "\n",
      "再大一點\n",
      "您已經猜了1次\n",
      "格式錯誤\n",
      "格式錯誤\n",
      "格式錯誤\n"
     ]
    }
   ],
   "source": [
    "import random\n",
    "\n",
    "def play_game():\n",
    "    min = 1\n",
    "    max = 100\n",
    "    target = random.randint(min, max)\n",
    "    print(target)\n",
    "    print(\"===========猜數字遊戲============\\n\")\n",
    "    count = 0\n",
    "\n",
    "    while True:\n",
    "        \n",
    "        try:\n",
    "            keyin = int(input(f\"猜數字範圍{min}~{max}:\"))\n",
    "            count += 1\n",
    "        except:\n",
    "            print(\"格式錯誤\")     # 輸入錯誤不算次數\n",
    "            continue\n",
    "\n",
    "        if keyin < min or keyin > max:\n",
    "            print(\"超過範圍\")        \n",
    "            continue\n",
    "\n",
    "        \n",
    "\n",
    "        if keyin == target:\n",
    "            print(f\"賓果!猜對了, 答案是:{keyin}\")\n",
    "            print(f\"您猜了{count}次\")\n",
    "            break\n",
    "        elif keyin > target:\n",
    "            print(\"再小一點\")\n",
    "            max = keyin - 1\n",
    "            \n",
    "        elif keyin < target:\n",
    "            print(\"再大一點\")\n",
    "            min = keyin + 1\n",
    "        print(f\"您已經猜了{count}次\")\n",
    "\n",
    "while True:\n",
    "    play_game()  \n",
    "    play = input(\"是否繼續(y/n)\")\n",
    "    if play == \"n\":\n",
    "        break       \n",
    "print(\"應用程式結束\")"
   ]
  }
 ],
 "metadata": {
  "kernelspec": {
   "display_name": "Python 3",
   "language": "python",
   "name": "python3"
  },
  "language_info": {
   "codemirror_mode": {
    "name": "ipython",
    "version": 3
   },
   "file_extension": ".py",
   "mimetype": "text/x-python",
   "name": "python",
   "nbconvert_exporter": "python",
   "pygments_lexer": "ipython3",
   "version": "3.11.9"
  }
 },
 "nbformat": 4,
 "nbformat_minor": 2
}
